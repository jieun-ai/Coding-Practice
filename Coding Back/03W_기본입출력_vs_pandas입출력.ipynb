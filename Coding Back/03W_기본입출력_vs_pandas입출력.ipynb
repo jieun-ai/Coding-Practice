{
 "cells": [
  {
   "cell_type": "markdown",
   "id": "433e66ce",
   "metadata": {},
   "source": [
    "# python 기본 파일 입출력 함수 사용\n",
    "python 기본 파일 입출력 함수를 사용하여 단어 빈도수를 구함"
   ]
  },
  {
   "cell_type": "code",
   "execution_count": 1,
   "id": "9c03d04f",
   "metadata": {},
   "outputs": [
    {
     "name": "stdout",
     "output_type": "stream",
     "text": [
      "[#1] time elapsed:    0.00008 s\n",
      "[#1] memory usage:   50.50391 MB\n",
      "Data Variable size:    0.00020 MB\n",
      "[#2] time elapsed:    0.01486 s\n",
      "[#2] memory usage:   50.51562 MB\n",
      "[#3] time elapsed:    1.70178 s\n",
      "[#3] memory usage:  103.24609 MB\n",
      "[('영화', 10825), ('너무', 8239), ('정말', 7791), ('진짜', 5929), ('이', 5059), ('영화.', 3598), ('왜', 3285), ('더', 3260), ('이런', 3249), ('그냥', 3237)]\n",
      "[#4] time elapsed:    1.83252 s\n",
      "[#4] memory usage:  128.58203 MB\n"
     ]
    }
   ],
   "source": [
    "# 모든 기존 변수들을 메모리에서 제거한다\n",
    "%reset -f\n",
    "import time\n",
    "import psutil\n",
    "import sys\n",
    "\n",
    "start_time = time.perf_counter()\n",
    "\n",
    "print(\"[#1] time elapsed: %10.5f s\"%(time.perf_counter() - start_time))\n",
    "print(\"[#1] memory usage: %10.5f MB\"%(psutil.Process().memory_info().rss/ 2 ** 20))\n",
    "\n",
    "IF=open(\"ratings_train.txt\", \"r\", encoding='UTF8')\n",
    "print(\"Data Variable size: %10.5f MB\"%(sys.getsizeof(IF)/ 2 ** 20))\n",
    "\n",
    "print(\"[#2] time elapsed: %10.5f s\"%(time.perf_counter() - start_time))\n",
    "print(\"[#2] memory usage: %10.5f MB\"%(psutil.Process().memory_info().rss/ 2 ** 20))\n",
    "\n",
    "dic_word2freq={}\n",
    "for line in IF:\n",
    "    s=line.strip().split(\"\\t\")\n",
    "    lst_word=s[1].split(\" \")\n",
    "    for word in lst_word:\n",
    "        if word not in dic_word2freq:\n",
    "            dic_word2freq[word]=0\n",
    "        dic_word2freq[word]+=1\n",
    "        \n",
    "print(\"[#3] time elapsed: %10.5f s\"%(time.perf_counter() - start_time))\n",
    "print(\"[#3] memory usage: %10.5f MB\"%(psutil.Process().memory_info().rss/ 2 ** 20))\n",
    "\n",
    "lst_word_freq = sorted(dic_word2freq.items(), key=lambda x:x[1], reverse=True)\n",
    "print(lst_word_freq[0:10])\n",
    "\n",
    "print(\"[#4] time elapsed: %10.5f s\"%(time.perf_counter() - start_time))\n",
    "print(\"[#4] memory usage: %10.5f MB\"%(psutil.Process().memory_info().rss/ 2 ** 20))"
   ]
  },
  {
   "cell_type": "markdown",
   "id": "40d4e211",
   "metadata": {},
   "source": [
    "# pandas read_csv 함수 사용"
   ]
  },
  {
   "cell_type": "code",
   "execution_count": 2,
   "id": "e1eebf87",
   "metadata": {},
   "outputs": [
    {
     "name": "stdout",
     "output_type": "stream",
     "text": [
      "[#1] time elapsed:    0.00018 s\n",
      "[#1] memory usage:   84.50000 MB\n",
      "Data Variable size:   24.04730 MB\n",
      "[#2] time elapsed:    0.72334 s\n",
      "[#2] memory usage:  110.80469 MB\n",
      "[#3] time elapsed:   16.58108 s\n",
      "[#3] memory usage:  171.64453 MB\n",
      "[('영화', 10825), ('너무', 8239), ('정말', 7791), ('진짜', 5929), ('이', 5059), ('영화.', 3598), ('왜', 3285), ('더', 3260), ('이런', 3249), ('그냥', 3237)]\n",
      "[#4] time elapsed:   16.77268 s\n",
      "[#4] memory usage:  196.66797 MB\n"
     ]
    }
   ],
   "source": [
    "# 모든 기존 변수들을 메모리에서 제거한다\n",
    "%reset -f\n",
    "import time\n",
    "import psutil\n",
    "import sys\n",
    "import pandas as pd\n",
    "\n",
    "start_time = time.perf_counter()\n",
    "\n",
    "print(\"[#1] time elapsed: %10.5f s\"%(time.perf_counter() - start_time))\n",
    "print(\"[#1] memory usage: %10.5f MB\"%(psutil.Process().memory_info().rss/ 2 ** 20))\n",
    "\n",
    "df = pd.read_csv(\"ratings_train.txt\", sep=\"\\t\", na_filter=False)\n",
    "print(\"Data Variable size: %10.5f MB\"%(sys.getsizeof(df)/ 2 ** 20))\n",
    "\n",
    "print(\"[#2] time elapsed: %10.5f s\"%(time.perf_counter() - start_time))\n",
    "print(\"[#2] memory usage: %10.5f MB\"%(psutil.Process().memory_info().rss/ 2 ** 20))\n",
    "\n",
    "dic_word2freq={}\n",
    "for index, line in df.iterrows():\n",
    "    lst_word=line[\"document\"].split(\" \")\n",
    "    for word in lst_word:\n",
    "        if word not in dic_word2freq:\n",
    "            dic_word2freq[word]=0\n",
    "        dic_word2freq[word]+=1\n",
    "        \n",
    "print(\"[#3] time elapsed: %10.5f s\"%(time.perf_counter() - start_time))\n",
    "print(\"[#3] memory usage: %10.5f MB\"%(psutil.Process().memory_info().rss/ 2 ** 20))\n",
    "\n",
    "lst_word_freq = sorted(dic_word2freq.items(), key=lambda x:x[1], reverse=True)\n",
    "print(lst_word_freq[0:10])\n",
    "\n",
    "print(\"[#4] time elapsed: %10.5f s\"%(time.perf_counter() - start_time))\n",
    "print(\"[#4] memory usage: %10.5f MB\"%(psutil.Process().memory_info().rss/ 2 ** 20))"
   ]
  },
  {
   "cell_type": "markdown",
   "id": "00476a71",
   "metadata": {},
   "source": [
    "# 비효율적인 알고리즘\n",
    "시간이 매우 오래 걸림으로 실행이 안 됨"
   ]
  },
  {
   "cell_type": "code",
   "execution_count": 3,
   "id": "6cd48cde",
   "metadata": {},
   "outputs": [
    {
     "name": "stdout",
     "output_type": "stream",
     "text": [
      "[#1] time elapsed:    0.00007 s\n",
      "[#1] memory usage:   89.97266 MB\n",
      "Data Variable size:    0.00020 MB\n",
      "[#2] time elapsed:    0.00223 s\n",
      "[#2] memory usage:   89.73438 MB\n"
     ]
    },
    {
     "ename": "KeyboardInterrupt",
     "evalue": "",
     "output_type": "error",
     "traceback": [
      "\u001b[1;31m---------------------------------------------------------------------------\u001b[0m",
      "\u001b[1;31mKeyboardInterrupt\u001b[0m                         Traceback (most recent call last)",
      "\u001b[1;32m<ipython-input-3-52d0dee79601>\u001b[0m in \u001b[0;36m<module>\u001b[1;34m\u001b[0m\n\u001b[0;32m     28\u001b[0m     \u001b[0mdic_word2freq\u001b[0m\u001b[1;33m[\u001b[0m\u001b[0mword\u001b[0m\u001b[1;33m]\u001b[0m\u001b[1;33m=\u001b[0m\u001b[1;36m0\u001b[0m\u001b[1;33m\u001b[0m\u001b[1;33m\u001b[0m\u001b[0m\n\u001b[0;32m     29\u001b[0m     \u001b[0mIF\u001b[0m\u001b[1;33m=\u001b[0m\u001b[0mopen\u001b[0m\u001b[1;33m(\u001b[0m\u001b[1;34m\"ratings_train.txt\"\u001b[0m\u001b[1;33m,\u001b[0m \u001b[1;34m\"r\"\u001b[0m\u001b[1;33m,\u001b[0m \u001b[0mencoding\u001b[0m\u001b[1;33m=\u001b[0m\u001b[1;34m'UTF8'\u001b[0m\u001b[1;33m)\u001b[0m\u001b[1;33m\u001b[0m\u001b[1;33m\u001b[0m\u001b[0m\n\u001b[1;32m---> 30\u001b[1;33m     \u001b[1;32mfor\u001b[0m \u001b[0mline\u001b[0m \u001b[1;32min\u001b[0m \u001b[0mIF\u001b[0m\u001b[1;33m:\u001b[0m\u001b[1;33m\u001b[0m\u001b[1;33m\u001b[0m\u001b[0m\n\u001b[0m\u001b[0;32m     31\u001b[0m         \u001b[0ms\u001b[0m\u001b[1;33m=\u001b[0m\u001b[0mline\u001b[0m\u001b[1;33m.\u001b[0m\u001b[0mstrip\u001b[0m\u001b[1;33m(\u001b[0m\u001b[1;33m)\u001b[0m\u001b[1;33m.\u001b[0m\u001b[0msplit\u001b[0m\u001b[1;33m(\u001b[0m\u001b[1;34m\"\\t\"\u001b[0m\u001b[1;33m)\u001b[0m\u001b[1;33m\u001b[0m\u001b[1;33m\u001b[0m\u001b[0m\n\u001b[0;32m     32\u001b[0m         \u001b[0mlst_word\u001b[0m\u001b[1;33m=\u001b[0m\u001b[0ms\u001b[0m\u001b[1;33m[\u001b[0m\u001b[1;36m1\u001b[0m\u001b[1;33m]\u001b[0m\u001b[1;33m.\u001b[0m\u001b[0msplit\u001b[0m\u001b[1;33m(\u001b[0m\u001b[1;34m\" \"\u001b[0m\u001b[1;33m)\u001b[0m\u001b[1;33m\u001b[0m\u001b[1;33m\u001b[0m\u001b[0m\n",
      "\u001b[1;32mC:\\ProgramData\\Anaconda3\\Lib\\codecs.py\u001b[0m in \u001b[0;36mdecode\u001b[1;34m(self, input, final)\u001b[0m\n\u001b[0;32m    317\u001b[0m         \u001b[1;32mraise\u001b[0m \u001b[0mNotImplementedError\u001b[0m\u001b[1;33m\u001b[0m\u001b[1;33m\u001b[0m\u001b[0m\n\u001b[0;32m    318\u001b[0m \u001b[1;33m\u001b[0m\u001b[0m\n\u001b[1;32m--> 319\u001b[1;33m     \u001b[1;32mdef\u001b[0m \u001b[0mdecode\u001b[0m\u001b[1;33m(\u001b[0m\u001b[0mself\u001b[0m\u001b[1;33m,\u001b[0m \u001b[0minput\u001b[0m\u001b[1;33m,\u001b[0m \u001b[0mfinal\u001b[0m\u001b[1;33m=\u001b[0m\u001b[1;32mFalse\u001b[0m\u001b[1;33m)\u001b[0m\u001b[1;33m:\u001b[0m\u001b[1;33m\u001b[0m\u001b[1;33m\u001b[0m\u001b[0m\n\u001b[0m\u001b[0;32m    320\u001b[0m         \u001b[1;31m# decode input (taking the buffer into account)\u001b[0m\u001b[1;33m\u001b[0m\u001b[1;33m\u001b[0m\u001b[1;33m\u001b[0m\u001b[0m\n\u001b[0;32m    321\u001b[0m         \u001b[0mdata\u001b[0m \u001b[1;33m=\u001b[0m \u001b[0mself\u001b[0m\u001b[1;33m.\u001b[0m\u001b[0mbuffer\u001b[0m \u001b[1;33m+\u001b[0m \u001b[0minput\u001b[0m\u001b[1;33m\u001b[0m\u001b[1;33m\u001b[0m\u001b[0m\n",
      "\u001b[1;31mKeyboardInterrupt\u001b[0m: "
     ]
    }
   ],
   "source": [
    "# 모든 기존 변수들을 메모리에서 제거한다\n",
    "%reset -f\n",
    "import time\n",
    "import psutil\n",
    "import sys\n",
    "\n",
    "start_time = time.perf_counter()\n",
    "\n",
    "print(\"[#1] time elapsed: %10.5f s\"%(time.perf_counter() - start_time))\n",
    "print(\"[#1] memory usage: %10.5f MB\"%(psutil.Process().memory_info().rss/ 2 ** 20))\n",
    "\n",
    "IF=open(\"ratings_train.txt\", \"r\", encoding='UTF8')\n",
    "print(\"Data Variable size: %10.5f MB\"%(sys.getsizeof(IF)/ 2 ** 20))\n",
    "\n",
    "print(\"[#2] time elapsed: %10.5f s\"%(time.perf_counter() - start_time))\n",
    "print(\"[#2] memory usage: %10.5f MB\"%(psutil.Process().memory_info().rss/ 2 ** 20))\n",
    "\n",
    "set_word=set()\n",
    "for line in IF:\n",
    "    s=line.strip().split(\"\\t\")\n",
    "    lst_word=s[1].split(\" \")\n",
    "    for word in lst_word:\n",
    "        set_word.add(word)\n",
    "IF.close()\n",
    "\n",
    "dic_word2freq={}\n",
    "for word in set_word:\n",
    "    dic_word2freq[word]=0\n",
    "    IF=open(\"ratings_train.txt\", \"r\", encoding='UTF8')\n",
    "    for line in IF:\n",
    "        s=line.strip().split(\"\\t\")\n",
    "        lst_word=s[1].split(\" \")\n",
    "        for word2 in lst_word:\n",
    "            if word2 == word:\n",
    "                dic_word2freq[word]+=1\n",
    "    IF.close()\n",
    "        \n",
    "print(\"[#3] time elapsed: %10.5f s\"%(time.perf_counter() - start_time))\n",
    "print(\"[#3] memory usage: %10.5f MB\"%(psutil.Process().memory_info().rss/ 2 ** 20))\n",
    "\n",
    "lst_word_freq = sorted(dic_word2freq.items(), key=lambda x:x[1], reverse=True)\n",
    "print(lst_word_freq[0:10])\n",
    "\n",
    "print(\"[#4] time elapsed: %10.5f s\"%(time.perf_counter() - start_time))\n",
    "print(\"[#4] memory usage: %10.5f MB\"%(psutil.Process().memory_info().rss/ 2 ** 20))"
   ]
  },
  {
   "cell_type": "markdown",
   "id": "4ac4dc66",
   "metadata": {},
   "source": [
    "# 데이터 파일을 10배, 100배 복사"
   ]
  },
  {
   "cell_type": "code",
   "execution_count": 4,
   "id": "61d7aa23",
   "metadata": {},
   "outputs": [],
   "source": [
    "OF=open(\"ratings_train_10.txt\",\"w\", encoding='UTF8')\n",
    "for i in range(10):\n",
    "    IF=open(\"ratings_train.txt\", \"r\", encoding='UTF8')\n",
    "    for line in IF:\n",
    "        OF.write(line)\n",
    "    IF.close()\n",
    "OF.close()\n",
    "    \n",
    "OF=open(\"ratings_train_100.txt\",\"w\", encoding='UTF8')\n",
    "for i in range(100):\n",
    "    IF=open(\"ratings_train.txt\", \"r\", encoding='UTF8')\n",
    "    for line in IF:\n",
    "        OF.write(line)\n",
    "    IF.close()\n",
    "OF.close()"
   ]
  },
  {
   "cell_type": "markdown",
   "id": "323e8a8d",
   "metadata": {},
   "source": [
    "# 10배 크기 (144MB) 데이터 분석 (파이썬 기본 파일 입출력함수)"
   ]
  },
  {
   "cell_type": "code",
   "execution_count": 5,
   "id": "0670948c",
   "metadata": {},
   "outputs": [
    {
     "name": "stdout",
     "output_type": "stream",
     "text": [
      "[#1] time elapsed:    0.00007 s\n",
      "[#1] memory usage:   93.33594 MB\n",
      "Data Variable size:    0.00020 MB\n",
      "[#2] time elapsed:    0.01069 s\n",
      "[#2] memory usage:   93.33594 MB\n",
      "[#3] time elapsed:   23.47633 s\n",
      "[#3] memory usage:  140.57031 MB\n",
      "[('영화', 108250), ('너무', 82390), ('정말', 77910), ('진짜', 59290), ('이', 50590), ('영화.', 35980), ('왜', 32850), ('더', 32600), ('이런', 32490), ('그냥', 32370)]\n",
      "[#4] time elapsed:   23.67895 s\n",
      "[#4] memory usage:  165.60547 MB\n"
     ]
    }
   ],
   "source": [
    "# 모든 기존 변수들을 메모리에서 제거한다\n",
    "%reset -f\n",
    "import time\n",
    "import psutil\n",
    "import sys\n",
    "\n",
    "start_time = time.perf_counter()\n",
    "\n",
    "print(\"[#1] time elapsed: %10.5f s\"%(time.perf_counter() - start_time))\n",
    "print(\"[#1] memory usage: %10.5f MB\"%(psutil.Process().memory_info().rss/ 2 ** 20))\n",
    "\n",
    "IF=open(\"ratings_train_10.txt\", \"r\", encoding='UTF8')\n",
    "print(\"Data Variable size: %10.5f MB\"%(sys.getsizeof(IF)/ 2 ** 20))\n",
    "\n",
    "print(\"[#2] time elapsed: %10.5f s\"%(time.perf_counter() - start_time))\n",
    "print(\"[#2] memory usage: %10.5f MB\"%(psutil.Process().memory_info().rss/ 2 ** 20))\n",
    "\n",
    "dic_word2freq={}\n",
    "for line in IF:\n",
    "    s=line.strip().split(\"\\t\")\n",
    "    lst_word=s[1].split(\" \")\n",
    "    for word in lst_word:\n",
    "        if word not in dic_word2freq:\n",
    "            dic_word2freq[word]=0\n",
    "        dic_word2freq[word]+=1\n",
    "        \n",
    "print(\"[#3] time elapsed: %10.5f s\"%(time.perf_counter() - start_time))\n",
    "print(\"[#3] memory usage: %10.5f MB\"%(psutil.Process().memory_info().rss/ 2 ** 20))\n",
    "\n",
    "lst_word_freq = sorted(dic_word2freq.items(), key=lambda x:x[1], reverse=True)\n",
    "print(lst_word_freq[0:10])\n",
    "\n",
    "print(\"[#4] time elapsed: %10.5f s\"%(time.perf_counter() - start_time))\n",
    "print(\"[#4] memory usage: %10.5f MB\"%(psutil.Process().memory_info().rss/ 2 ** 20))"
   ]
  },
  {
   "cell_type": "markdown",
   "id": "c3691aeb",
   "metadata": {},
   "source": [
    "# 10배 크기 (144MB) 데이터 분석 (pandas 파일 입출력함수)"
   ]
  },
  {
   "cell_type": "code",
   "execution_count": 6,
   "id": "7348d23f",
   "metadata": {},
   "outputs": [
    {
     "name": "stdout",
     "output_type": "stream",
     "text": [
      "[#1] time elapsed:    0.00010 s\n",
      "[#1] memory usage:   95.41797 MB\n",
      "Data Variable size:  392.12330 MB\n",
      "[#2] time elapsed:   11.45617 s\n",
      "[#2] memory usage:  310.57422 MB\n",
      "[#3] time elapsed:  211.30836 s\n",
      "[#3] memory usage:  363.16797 MB\n",
      "[('영화', 108250), ('너무', 82390), ('정말', 77910), ('진짜', 59290), ('이', 50590), ('영화.', 35980), ('왜', 32850), ('더', 32600), ('이런', 32490), ('그냥', 32370)]\n",
      "[#4] time elapsed:  211.48417 s\n",
      "[#4] memory usage:  388.17188 MB\n"
     ]
    }
   ],
   "source": [
    "# 모든 기존 변수들을 메모리에서 제거한다\n",
    "%reset -f\n",
    "import time\n",
    "import psutil\n",
    "import sys\n",
    "import pandas as pd\n",
    "\n",
    "start_time = time.perf_counter()\n",
    "\n",
    "print(\"[#1] time elapsed: %10.5f s\"%(time.perf_counter() - start_time))\n",
    "print(\"[#1] memory usage: %10.5f MB\"%(psutil.Process().memory_info().rss/ 2 ** 20))\n",
    "\n",
    "df = pd.read_csv(\"ratings_train_10.txt\", sep=\"\\t\", na_filter=False)\n",
    "print(\"Data Variable size: %10.5f MB\"%(sys.getsizeof(df)/ 2 ** 20))\n",
    "\n",
    "print(\"[#2] time elapsed: %10.5f s\"%(time.perf_counter() - start_time))\n",
    "print(\"[#2] memory usage: %10.5f MB\"%(psutil.Process().memory_info().rss/ 2 ** 20))\n",
    "\n",
    "dic_word2freq={}\n",
    "for index, line in df.iterrows():\n",
    "    lst_word=line[\"document\"].split(\" \")\n",
    "    for word in lst_word:\n",
    "        if word not in dic_word2freq:\n",
    "            dic_word2freq[word]=0\n",
    "        dic_word2freq[word]+=1\n",
    "        \n",
    "print(\"[#3] time elapsed: %10.5f s\"%(time.perf_counter() - start_time))\n",
    "print(\"[#3] memory usage: %10.5f MB\"%(psutil.Process().memory_info().rss/ 2 ** 20))\n",
    "\n",
    "lst_word_freq = sorted(dic_word2freq.items(), key=lambda x:x[1], reverse=True)\n",
    "print(lst_word_freq[0:10])\n",
    "\n",
    "print(\"[#4] time elapsed: %10.5f s\"%(time.perf_counter() - start_time))\n",
    "print(\"[#4] memory usage: %10.5f MB\"%(psutil.Process().memory_info().rss/ 2 ** 20))"
   ]
  },
  {
   "cell_type": "markdown",
   "id": "e8c71b39",
   "metadata": {},
   "source": [
    "# 100배 크기 (1.44GB) 데이터 분석 (파이썬 기본 파일 입출력함수)"
   ]
  },
  {
   "cell_type": "code",
   "execution_count": 7,
   "id": "47734339",
   "metadata": {},
   "outputs": [
    {
     "name": "stdout",
     "output_type": "stream",
     "text": [
      "[#1] time elapsed:    0.00015 s\n",
      "[#1] memory usage:   97.94531 MB\n",
      "Data Variable size:    0.00020 MB\n",
      "[#2] time elapsed:    0.01201 s\n",
      "[#2] memory usage:   97.94531 MB\n",
      "[#3] time elapsed:  220.49881 s\n",
      "[#3] memory usage:  141.57422 MB\n",
      "[('영화', 1082500), ('너무', 823900), ('정말', 779100), ('진짜', 592900), ('이', 505900), ('영화.', 359800), ('왜', 328500), ('더', 326000), ('이런', 324900), ('그냥', 323700)]\n",
      "[#4] time elapsed:  220.75619 s\n",
      "[#4] memory usage:  167.16016 MB\n"
     ]
    }
   ],
   "source": [
    "# 모든 기존 변수들을 메모리에서 제거한다\n",
    "%reset -f\n",
    "import time\n",
    "import psutil\n",
    "import sys\n",
    "\n",
    "start_time = time.perf_counter()\n",
    "\n",
    "print(\"[#1] time elapsed: %10.5f s\"%(time.perf_counter() - start_time))\n",
    "print(\"[#1] memory usage: %10.5f MB\"%(psutil.Process().memory_info().rss/ 2 ** 20))\n",
    "\n",
    "IF=open(\"ratings_train_100.txt\", \"r\", encoding='UTF8')\n",
    "print(\"Data Variable size: %10.5f MB\"%(sys.getsizeof(IF)/ 2 ** 20))\n",
    "\n",
    "print(\"[#2] time elapsed: %10.5f s\"%(time.perf_counter() - start_time))\n",
    "print(\"[#2] memory usage: %10.5f MB\"%(psutil.Process().memory_info().rss/ 2 ** 20))\n",
    "\n",
    "dic_word2freq={}\n",
    "for line in IF:\n",
    "    s=line.strip().split(\"\\t\")\n",
    "    lst_word=s[1].split(\" \")\n",
    "    for word in lst_word:\n",
    "        if word not in dic_word2freq:\n",
    "            dic_word2freq[word]=0\n",
    "        dic_word2freq[word]+=1\n",
    "        \n",
    "print(\"[#3] time elapsed: %10.5f s\"%(time.perf_counter() - start_time))\n",
    "print(\"[#3] memory usage: %10.5f MB\"%(psutil.Process().memory_info().rss/ 2 ** 20))\n",
    "\n",
    "lst_word_freq = sorted(dic_word2freq.items(), key=lambda x:x[1], reverse=True)\n",
    "print(lst_word_freq[0:10])\n",
    "\n",
    "print(\"[#4] time elapsed: %10.5f s\"%(time.perf_counter() - start_time))\n",
    "print(\"[#4] memory usage: %10.5f MB\"%(psutil.Process().memory_info().rss/ 2 ** 20))"
   ]
  },
  {
   "cell_type": "markdown",
   "id": "f1831181",
   "metadata": {},
   "source": [
    "# 100배 크기 (1.44GB) 데이터 분석 (pandas 파일 입출력함수)"
   ]
  },
  {
   "cell_type": "code",
   "execution_count": 9,
   "id": "9a7a4df2",
   "metadata": {},
   "outputs": [
    {
     "name": "stdout",
     "output_type": "stream",
     "text": [
      "[#1] time elapsed:    0.00007 s\n",
      "[#1] memory usage: 2251.44922 MB\n",
      "Data Variable size: 3918.36143 MB\n",
      "[#2] time elapsed:   89.62924 s\n",
      "[#2] memory usage: 4378.37891 MB\n",
      "[#3] time elapsed: 1934.04513 s\n",
      "[#3] memory usage: 2400.18750 MB\n",
      "[('영화', 1082500), ('너무', 823900), ('정말', 779100), ('진짜', 592900), ('이', 505900), ('영화.', 359800), ('왜', 328500), ('더', 326000), ('이런', 324900), ('그냥', 323700)]\n",
      "[#4] time elapsed: 1934.27274 s\n",
      "[#4] memory usage: 2425.44531 MB\n"
     ]
    }
   ],
   "source": [
    "# 모든 기존 변수들을 메모리에서 제거한다\n",
    "%reset -f\n",
    "import time\n",
    "import psutil\n",
    "import sys\n",
    "import pandas as pd\n",
    "\n",
    "start_time = time.perf_counter()\n",
    "\n",
    "print(\"[#1] time elapsed: %10.5f s\"%(time.perf_counter() - start_time))\n",
    "print(\"[#1] memory usage: %10.5f MB\"%(psutil.Process().memory_info().rss/ 2 ** 20))\n",
    "\n",
    "df = pd.read_csv(\"ratings_train_100.txt\", sep=\"\\t\", na_filter=False)\n",
    "print(\"Data Variable size: %10.5f MB\"%(sys.getsizeof(df)/ 2 ** 20))\n",
    "\n",
    "print(\"[#2] time elapsed: %10.5f s\"%(time.perf_counter() - start_time))\n",
    "print(\"[#2] memory usage: %10.5f MB\"%(psutil.Process().memory_info().rss/ 2 ** 20))\n",
    "\n",
    "dic_word2freq={}\n",
    "for index, line in df.iterrows():\n",
    "    lst_word=line[\"document\"].split(\" \")\n",
    "    for word in lst_word:\n",
    "        if word not in dic_word2freq:\n",
    "            dic_word2freq[word]=0\n",
    "        dic_word2freq[word]+=1\n",
    "        \n",
    "print(\"[#3] time elapsed: %10.5f s\"%(time.perf_counter() - start_time))\n",
    "print(\"[#3] memory usage: %10.5f MB\"%(psutil.Process().memory_info().rss/ 2 ** 20))\n",
    "\n",
    "lst_word_freq = sorted(dic_word2freq.items(), key=lambda x:x[1], reverse=True)\n",
    "print(lst_word_freq[0:10])\n",
    "\n",
    "print(\"[#4] time elapsed: %10.5f s\"%(time.perf_counter() - start_time))\n",
    "print(\"[#4] memory usage: %10.5f MB\"%(psutil.Process().memory_info().rss/ 2 ** 20))"
   ]
  }
 ],
 "metadata": {
  "kernelspec": {
   "display_name": "Python 3",
   "language": "python",
   "name": "python3"
  },
  "language_info": {
   "codemirror_mode": {
    "name": "ipython",
    "version": 3
   },
   "file_extension": ".py",
   "mimetype": "text/x-python",
   "name": "python",
   "nbconvert_exporter": "python",
   "pygments_lexer": "ipython3",
   "version": "3.8.11"
  }
 },
 "nbformat": 4,
 "nbformat_minor": 5
}
