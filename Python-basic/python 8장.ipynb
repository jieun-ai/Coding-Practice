{
 "cells": [
  {
   "cell_type": "markdown",
   "id": "664fe43b",
   "metadata": {},
   "source": [
    "# 8-1 표준입출력 end,sep,zfill"
   ]
  },
  {
   "cell_type": "code",
   "execution_count": 1,
   "id": "ac6ee640",
   "metadata": {},
   "outputs": [
    {
     "name": "stdout",
     "output_type": "stream",
     "text": [
      "Python?Java?C#\n"
     ]
    }
   ],
   "source": [
    "# sep : 구분자?\n",
    "\n",
    "print(\"Python\",\"Java\",\"C#\",sep=\"?\")"
   ]
  },
  {
   "cell_type": "code",
   "execution_count": 2,
   "id": "49f940d8",
   "metadata": {},
   "outputs": [
    {
     "name": "stdout",
     "output_type": "stream",
     "text": [
      "Python,Java 무엇이 더 재밌을까\n"
     ]
    }
   ],
   "source": [
    "# end : 줄바꿈 안하기\n",
    "\n",
    "print(\"Python\",\"Java\",sep=\",\", end=\" \")\n",
    "print(\"무엇이 더 재밌을까\")"
   ]
  },
  {
   "cell_type": "code",
   "execution_count": 3,
   "id": "21438f72",
   "metadata": {},
   "outputs": [
    {
     "name": "stdout",
     "output_type": "stream",
     "text": [
      "수학 :   0\n",
      "영어 :  50\n",
      "코딩 : 100\n"
     ]
    }
   ],
   "source": [
    "# ljust / rjust\n",
    "\n",
    "scores= {\"수학\":0, \"영어\":50, \"코딩\":100}\n",
    "for subject, score in scores.items():\n",
    "    print(subject.ljust(3), str(score).rjust(4), sep=\":\")\n",
    "    \n",
    "#ljust(3) 왼쪽 정렬, 왼쪽에 공간 3개\n",
    "#rjust(4) 오른쪽 정렬, 오른쪽에 공간 4개"
   ]
  },
  {
   "cell_type": "code",
   "execution_count": 4,
   "id": "99a43753",
   "metadata": {},
   "outputs": [
    {
     "name": "stdout",
     "output_type": "stream",
     "text": [
      "대기번호 : 001\n",
      "대기번호 : 002\n",
      "대기번호 : 003\n",
      "대기번호 : 004\n",
      "대기번호 : 005\n",
      "대기번호 : 006\n",
      "대기번호 : 007\n",
      "대기번호 : 008\n",
      "대기번호 : 009\n",
      "대기번호 : 010\n",
      "대기번호 : 011\n",
      "대기번호 : 012\n",
      "대기번호 : 013\n",
      "대기번호 : 014\n",
      "대기번호 : 015\n",
      "대기번호 : 016\n",
      "대기번호 : 017\n",
      "대기번호 : 018\n",
      "대기번호 : 019\n",
      "대기번호 : 020\n"
     ]
    }
   ],
   "source": [
    "# zfill: 공간 확보하는 코드\n",
    "\n",
    "for num in range(1,21):\n",
    "    print(\"대기번호 : \" + str(num).zfill(3))\n",
    "    \n",
    "# for num in range(1,21):\n",
    "#     print(\"대기번호 :\",str(num).zfill(3))"
   ]
  },
  {
   "cell_type": "markdown",
   "id": "9bc7d7f3",
   "metadata": {},
   "source": [
    "# 8-2 다양한 출력포맷 format"
   ]
  },
  {
   "cell_type": "code",
   "execution_count": 16,
   "id": "10680d5b",
   "metadata": {},
   "outputs": [
    {
     "name": "stdout",
     "output_type": "stream",
     "text": [
      "#빈 자리는 빈공간으로, 오른쪽 정렬, 총 10자리 공간 확보\n",
      "       500\n",
      "#양수일 땐 +로 표시 , 음수일 땐 -로 표시\n",
      "      +500\n",
      "      -500\n",
      "#왼쪽 정렬, 빈칸을 -로 채움\n",
      "500_______\n",
      " \n",
      "#3자리 마다 콤마를 찍어주기\n",
      "100,000,000,000\n",
      "#3자리 마다 콤마를 찍어주기, 부호 붙이기\n",
      "+100,000,000,000\n",
      "-100,000,000,000\n",
      "#빈공간은 ^로 , 왼쪽정렬, 부호, 30자리 공간 확보, 3자리 마다 콤마\n",
      "+100,000,000,000^^^^^^^^^^^^^^\n"
     ]
    }
   ],
   "source": [
    "print(\"#빈 자리는 빈공간으로, 오른쪽 정렬, 총 10자리 공간 확보\")\n",
    "print(\"{0: >10}\".format(500))\n",
    "\n",
    "print(\"#양수일 땐 +로 표시 , 음수일 땐 -로 표시\")\n",
    "print(\"{0: >+10}\".format(500))\n",
    "print(\"{0: >+10}\".format(-500))\n",
    "\n",
    "print(\"#왼쪽 정렬, 빈칸을 -로 채움\")\n",
    "print(\"{0:_<10}\".format(500))\n",
    "\n",
    "print(\" \")\n",
    "print(\"#3자리 마다 콤마를 찍어주기\")\n",
    "print(\"{0:,}\".format(100000000000))\n",
    "\n",
    "print(\"#3자리 마다 콤마를 찍어주기, 부호 붙이기\")\n",
    "print(\"{0:+,}\".format(100000000000))\n",
    "print(\"{0:+,}\".format(-100000000000))\n",
    "\n",
    "print(\"#빈공간은 ^로 , 왼쪽정렬, 부호, 30자리 공간 확보, 3자리 마다 콤마\")\n",
    "print(\"{0:^<+30,}\".format(100000000000))"
   ]
  },
  {
   "cell_type": "code",
   "execution_count": 17,
   "id": "95ccf2d3",
   "metadata": {},
   "outputs": [
    {
     "name": "stdout",
     "output_type": "stream",
     "text": [
      "#소수점\n",
      "1.666667\n",
      "1.67\n"
     ]
    }
   ],
   "source": [
    "print(\"#소수점\")\n",
    "print(\"{0:f}\".format(5/3))\n",
    "print(\"{0:.2f}\".format(5/3))"
   ]
  },
  {
   "cell_type": "markdown",
   "id": "5abe90d7",
   "metadata": {},
   "source": [
    "# 8-3 파일 입출력 open"
   ]
  },
  {
   "cell_type": "code",
   "execution_count": 10,
   "id": "fab50a92",
   "metadata": {},
   "outputs": [],
   "source": [
    "# 쓰기 W\n",
    "\n",
    "score_file=open(\"score.txt\",\"w\",encoding=\"utf8\")\n",
    "print(\"수학 : 0\", file=score_file)\n",
    "print(\"영어 : 50\", file=score_file)\n",
    "score_file.close()\n",
    "\n",
    "# 덮어쓰기 a\n",
    "\n",
    "score_file=open(\"score.txt\",\"a\",encoding=\"utf8\")\n",
    "score_file.write(\"과학 : 80\")\n",
    "score_file.write(\"\\n코딩 : 100\") #score_file.write는 줄바꿈이 자동으로 안되서 \\n을 넣어준것\n",
    "score_file.close()"
   ]
  },
  {
   "cell_type": "code",
   "execution_count": 11,
   "id": "1a1dc571",
   "metadata": {},
   "outputs": [
    {
     "name": "stdout",
     "output_type": "stream",
     "text": [
      "수학 : 0\n",
      "영어 : 50\n",
      "과학 : 80\n",
      "코딩 : 100\n"
     ]
    }
   ],
   "source": [
    "# 읽기 r\n",
    "\n",
    "score_file=open(\"score.txt\",\"r\",encoding=\"utf8\")\n",
    "print(score_file.read()) #한꺼번에 읽기\n",
    "score_file.close()"
   ]
  },
  {
   "cell_type": "code",
   "execution_count": 7,
   "id": "45416025",
   "metadata": {},
   "outputs": [
    {
     "name": "stdout",
     "output_type": "stream",
     "text": [
      "수학 : 0\n",
      " 영어 : 50\n",
      " 과학 : 80\n",
      " 코딩 : 100 "
     ]
    }
   ],
   "source": [
    "score_file=open(\"score.txt\",\"r\",encoding=\"utf8\")\n",
    "print(score_file.readline(),end=\" \") #줄별로 읽기, 한 줄로 읽고 커서는 다음 줄로 이동\n",
    "print(score_file.readline(),end=\" \") #줄별로 읽기, 한 줄로 읽고 커서는 다음 줄로 이동\n",
    "print(score_file.readline(),end=\" \") #줄별로 읽기, 한 줄로 읽고 커서는 다음 줄로 이동\n",
    "print(score_file.readline(),end=\" \") #줄별로 읽기, 한 줄로 읽고 커서는 다음 줄로 이동\n",
    "\n",
    "score_file.close()"
   ]
  },
  {
   "cell_type": "code",
   "execution_count": 45,
   "id": "3335dd02",
   "metadata": {},
   "outputs": [],
   "source": [
    "#총 몇 줄이 있는지 모를때 이 방법을 쓴다.\n",
    "#왜 에러가 뜨는지 모르겠음\n",
    "\n",
    "# score_file=open(\"score.txt\",\"r\",encoding=\"utf8\")\n",
    "# while True:\n",
    "#     line = score_file.readline()\n",
    "#     if not line(): #line에서 더이상 읽어올 내용이 없으면\n",
    "#         break #반복문 탈출\n",
    "#     print(line, end=\" \") # 내용이 있으면 print\n",
    "# score_file.close()"
   ]
  },
  {
   "cell_type": "code",
   "execution_count": 18,
   "id": "20bffbed",
   "metadata": {},
   "outputs": [
    {
     "name": "stdout",
     "output_type": "stream",
     "text": [
      "수학 : 0\n",
      "영어 : 50\n",
      "과학 : 80\n",
      "코딩 : 100"
     ]
    }
   ],
   "source": [
    "score_file=open(\"score.txt\",\"r\",encoding=\"utf8\")\n",
    "lines = score_file.readlines()\n",
    "for line in lines:\n",
    "    print(line, end=\"\")\n",
    "    \n",
    "score_file.close()"
   ]
  },
  {
   "cell_type": "markdown",
   "id": "5c796d13",
   "metadata": {},
   "source": [
    "# 8-4 pickle"
   ]
  },
  {
   "cell_type": "code",
   "execution_count": 22,
   "id": "f2c9e010",
   "metadata": {},
   "outputs": [
    {
     "name": "stdout",
     "output_type": "stream",
     "text": [
      "{'이름': '박명수', '나이': 30, '취미': ['축구', '골프', '코딩']}\n"
     ]
    }
   ],
   "source": [
    "#쓰기\n",
    "import pickle\n",
    "profile_file=open(\"profile.pickle\",\"wb\")\n",
    "profile={\"이름\":\"박명수\",\"나이\":30,\"취미\":[\"축구\",\"골프\",\"코딩\"]}\n",
    "print(profile)\n",
    "\n",
    "#profile에 있는 정보를 profile_file(파일)에 저장\n",
    "pickle.dump(profile, profile_file)\n",
    "profile_file.close()"
   ]
  },
  {
   "cell_type": "code",
   "execution_count": 24,
   "id": "546b12e6",
   "metadata": {},
   "outputs": [
    {
     "name": "stdout",
     "output_type": "stream",
     "text": [
      "{'이름': '박명수', '나이': 30, '취미': ['축구', '골프', '코딩']}\n"
     ]
    }
   ],
   "source": [
    "#읽기\n",
    "import pickle\n",
    "profile_file=open(\"profile.pickle\",\"rb\")\n",
    "\n",
    "#profile_file 있는 정보를 profile에 불러오기(load)\n",
    "profile=pickle.load(profile_file)\n",
    "print(profile)\n",
    "profile_file.close()"
   ]
  },
  {
   "cell_type": "markdown",
   "id": "79193203",
   "metadata": {},
   "source": [
    "# 8-5 with"
   ]
  },
  {
   "cell_type": "code",
   "execution_count": 26,
   "id": "abe43ae5",
   "metadata": {},
   "outputs": [
    {
     "name": "stdout",
     "output_type": "stream",
     "text": [
      "{'이름': '박명수', '나이': 30, '취미': ['축구', '골프', '코딩']}\n"
     ]
    }
   ],
   "source": [
    "import pickle\n",
    "\n",
    "#profile.pickle 에 대한 정보를 profile_file 라는 변수에 넣음\n",
    "with open(\"profile.pickle\",\"rb\") as profile_file:\n",
    "    print(pickle.load(profile_file))"
   ]
  },
  {
   "cell_type": "code",
   "execution_count": 27,
   "id": "755ceffc",
   "metadata": {},
   "outputs": [],
   "source": [
    "#pickle을 사용하지 않는 일반적인 방법\n",
    "\n",
    "#쓰기\n",
    "with open(\"study.txt\", \"w\", encoding=\"utf8\") as study_file:\n",
    "    study_file.write(\"파이썬을 열심히 공부하고 있어요\")"
   ]
  },
  {
   "cell_type": "code",
   "execution_count": 28,
   "id": "cabe9bed",
   "metadata": {},
   "outputs": [
    {
     "name": "stdout",
     "output_type": "stream",
     "text": [
      "파이썬을 열심히 공부하고 있어요\n"
     ]
    }
   ],
   "source": [
    "#읽기\n",
    "with open(\"study.txt\", \"r\",encoding=\"utf8\") as study_file:\n",
    "    print(study_file.read())"
   ]
  },
  {
   "cell_type": "markdown",
   "id": "13d2ea06",
   "metadata": {},
   "source": [
    "# 예제"
   ]
  },
  {
   "cell_type": "markdown",
   "id": "5e8f1bc0",
   "metadata": {},
   "source": [
    "+ 1주차 부터 3주차까지의 보고서 파일을 만드는 프로그램을 작성하시오.\n",
    "+ 조건: 파일명은 '1주차.txt' '2주차.txt'...와 같이 만듭니다.\n",
    "\n",
    "+  -?주차 주간보고-\n",
    "+ 부서:\n",
    "+ 이름:\n",
    "+ 업무 요약:"
   ]
  },
  {
   "cell_type": "code",
   "execution_count": 35,
   "id": "75bcbf57",
   "metadata": {},
   "outputs": [],
   "source": [
    "\n",
    "for i in range(1,4):\n",
    "                #<파일명>     <write>\n",
    "    with open(str(i)+\"주차.txt\",\"w\",encoding=\"utf8\") as report_file:\n",
    "        report_file.write(\"- {0} 주차 주간보고 -\".format(i))\n",
    "        report_file.write(\"\\n부서 :\")\n",
    "        report_file.write(\"\\n이름 :\")\n",
    "        report_file.write(\"\\n업무 요약 :\")"
   ]
  },
  {
   "cell_type": "code",
   "execution_count": 41,
   "id": "776b18ff",
   "metadata": {},
   "outputs": [
    {
     "name": "stdout",
     "output_type": "stream",
     "text": [
      "토르, 커피가 준비 되었습니다. 5 번 남았어요.\n",
      "토르, 커피가 준비 되었습니다. 4 번 남았어요.\n",
      "토르, 커피가 준비 되었습니다. 3 번 남았어요.\n",
      "토르, 커피가 준비 되었습니다. 2 번 남았어요.\n",
      "토르, 커피가 준비 되었습니다. 1 번 남았어요.\n",
      "커피는 폐기처분되었습니다.\n"
     ]
    }
   ],
   "source": [
    "customer=\"토르\"\n",
    "index=5\n",
    "while index>=1:\n",
    "    print(\"{0}, 커피가 준비 되었습니다. {1} 번 남았어요.\".format(customer,index))\n",
    "    index-=1\n",
    "    if index==0:\n",
    "        print(\"커피는 폐기처분되었습니다.\")"
   ]
  },
  {
   "cell_type": "code",
   "execution_count": 42,
   "id": "b0c906e3",
   "metadata": {},
   "outputs": [
    {
     "name": "stdout",
     "output_type": "stream",
     "text": [
      "토르, 커피가 준비 되었습니다.\n",
      "이름이 어떻게 되세요?아이언맨\n",
      "토르, 커피가 준비 되었습니다.\n",
      "이름이 어떻게 되세요?토르\n"
     ]
    }
   ],
   "source": [
    "customer=\"토르\"\n",
    "person=\"Unknown\"\n",
    "\n",
    "#person = customer 이 될때 까지 반복문!\n",
    "while person != customer:\n",
    "    print(\"{0}, 커피가 준비 되었습니다.\".format(customer))\n",
    "    person = input(\"이름이 어떻게 되세요?\")"
   ]
  },
  {
   "cell_type": "code",
   "execution_count": null,
   "id": "c7ef3967",
   "metadata": {},
   "outputs": [],
   "source": []
  }
 ],
 "metadata": {
  "kernelspec": {
   "display_name": "Python 3",
   "language": "python",
   "name": "python3"
  },
  "language_info": {
   "codemirror_mode": {
    "name": "ipython",
    "version": 3
   },
   "file_extension": ".py",
   "mimetype": "text/x-python",
   "name": "python",
   "nbconvert_exporter": "python",
   "pygments_lexer": "ipython3",
   "version": "3.8.8"
  },
  "toc": {
   "base_numbering": 1,
   "nav_menu": {},
   "number_sections": true,
   "sideBar": true,
   "skip_h1_title": false,
   "title_cell": "Table of Contents",
   "title_sidebar": "Contents",
   "toc_cell": false,
   "toc_position": {},
   "toc_section_display": true,
   "toc_window_display": false
  }
 },
 "nbformat": 4,
 "nbformat_minor": 5
}
