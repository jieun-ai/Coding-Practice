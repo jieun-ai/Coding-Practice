{
 "cells": [
  {
   "cell_type": "markdown",
   "id": "47267afb",
   "metadata": {},
   "source": [
    "# 6-2 for 문"
   ]
  },
  {
   "cell_type": "code",
   "execution_count": 1,
   "id": "8bc6cbdc",
   "metadata": {},
   "outputs": [
    {
     "name": "stdout",
     "output_type": "stream",
     "text": [
      "대기번호 : 0\n",
      "대기번호 : 1\n",
      "대기번호 : 2\n",
      "대기번호 : 3\n",
      "대기번호 : 4\n"
     ]
    }
   ],
   "source": [
    "for i in [0,1,2,3,4]:\n",
    "    print(\"대기번호 : {0}\".format(i))"
   ]
  },
  {
   "cell_type": "markdown",
   "id": "c9240fbb",
   "metadata": {},
   "source": [
    "# 6-3 while문"
   ]
  },
  {
   "cell_type": "code",
   "execution_count": 2,
   "id": "661b5ce3",
   "metadata": {},
   "outputs": [
    {
     "name": "stdout",
     "output_type": "stream",
     "text": [
      "토르, 커피가 준비 되었습니다. 5 번 남았어요.\n",
      "토르, 커피가 준비 되었습니다. 4 번 남았어요.\n",
      "토르, 커피가 준비 되었습니다. 3 번 남았어요.\n",
      "토르, 커피가 준비 되었습니다. 2 번 남았어요.\n",
      "토르, 커피가 준비 되었습니다. 1 번 남았어요.\n",
      "커피는 폐기처분되었습니다.\n"
     ]
    }
   ],
   "source": [
    "customer=\"토르\"\n",
    "index=5\n",
    "while index>=1:\n",
    "    print(\"{0}, 커피가 준비 되었습니다. {1} 번 남았어요.\".format(customer,index))\n",
    "    index-=1\n",
    "    if index==0:\n",
    "        print(\"커피는 폐기처분되었습니다.\")"
   ]
  },
  {
   "cell_type": "code",
   "execution_count": 3,
   "id": "d650c450",
   "metadata": {},
   "outputs": [
    {
     "name": "stdout",
     "output_type": "stream",
     "text": [
      "토르, 커피가 준비 되었습니다.\n",
      "이름이 어떻게 되세요?아이언맨\n",
      "토르, 커피가 준비 되었습니다.\n",
      "이름이 어떻게 되세요?토르\n"
     ]
    }
   ],
   "source": [
    "customer=\"토르\"\n",
    "person=\"Unknown\"\n",
    "\n",
    "while person != customer:\n",
    "    print(\"{0}, 커피가 준비 되었습니다.\".format(customer))\n",
    "    person = input(\"이름이 어떻게 되세요?\")"
   ]
  },
  {
   "cell_type": "markdown",
   "id": "88e1fa76",
   "metadata": {},
   "source": [
    "# 6-4 continue, break"
   ]
  },
  {
   "cell_type": "code",
   "execution_count": 5,
   "id": "d4e69d32",
   "metadata": {},
   "outputs": [
    {
     "name": "stdout",
     "output_type": "stream",
     "text": [
      "1, 책을 읽어봐\n",
      "3, 책을 읽어봐\n",
      "4, 책을 읽어봐\n",
      "6, 책을 읽어봐\n",
      "오늘 수업 여기까지. 7은 교무실로 따라와\n"
     ]
    }
   ],
   "source": [
    "absent=[2,5]\n",
    "no_book=[7]\n",
    "for student in range(1,11):\n",
    "    if student in absent:\n",
    "        continue\n",
    "    elif student in no_book:\n",
    "        print(\"오늘 수업 여기까지. {0}은 교무실로 따라와\".format(student))\n",
    "        break\n",
    "    print(\"{0}, 책을 읽어봐\".format(student))"
   ]
  },
  {
   "cell_type": "markdown",
   "id": "d316fc60",
   "metadata": {},
   "source": [
    "# 6-5 한 줄 for"
   ]
  },
  {
   "cell_type": "code",
   "execution_count": 10,
   "id": "1e54ca2c",
   "metadata": {},
   "outputs": [
    {
     "name": "stdout",
     "output_type": "stream",
     "text": [
      "[101, 102, 103, 104, 105]\n",
      "[8, 4, 10]\n",
      "['IRON MAN', 'THOR', 'I AM GROOT']\n"
     ]
    }
   ],
   "source": [
    "students=[1,2,3,4,5]\n",
    "students=[i+100 for i in students]\n",
    "print(students)\n",
    "\n",
    "students=[\"Iron man\",\"Thor\",\"I am groot\"]\n",
    "students=[len(i) for i in students]\n",
    "print(students)\n",
    "\n",
    "students=[\"Iron man\",\"Thor\",\"I am groot\"]\n",
    "students=[i.upper() for i in students]\n",
    "print(students)"
   ]
  }
 ],
 "metadata": {
  "kernelspec": {
   "display_name": "Python 3",
   "language": "python",
   "name": "python3"
  },
  "language_info": {
   "codemirror_mode": {
    "name": "ipython",
    "version": 3
   },
   "file_extension": ".py",
   "mimetype": "text/x-python",
   "name": "python",
   "nbconvert_exporter": "python",
   "pygments_lexer": "ipython3",
   "version": "3.8.8"
  },
  "toc": {
   "base_numbering": 1,
   "nav_menu": {},
   "number_sections": true,
   "sideBar": true,
   "skip_h1_title": false,
   "title_cell": "Table of Contents",
   "title_sidebar": "Contents",
   "toc_cell": false,
   "toc_position": {},
   "toc_section_display": true,
   "toc_window_display": false
  }
 },
 "nbformat": 4,
 "nbformat_minor": 5
}
