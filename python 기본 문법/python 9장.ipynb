{
 "cells": [
  {
   "cell_type": "code",
   "execution_count": 4,
   "id": "17f882e2",
   "metadata": {},
   "outputs": [
    {
     "name": "stdout",
     "output_type": "stream",
     "text": [
      "마린 유닛이 생성되었습니다.\n",
      "체력 40, 공격력 5\n"
     ]
    }
   ],
   "source": [
    "name=\"마린\"\n",
    "hp=40\n",
    "damage=5\n",
    "\n",
    "print(\"{0} 유닛이 생성되었습니다.\".format(name))\n",
    "print(\"체력 {0}, 공격력 {1}\".format(hp,damage))"
   ]
  },
  {
   "cell_type": "code",
   "execution_count": 5,
   "id": "2be05836",
   "metadata": {},
   "outputs": [
    {
     "name": "stdout",
     "output_type": "stream",
     "text": [
      "탱크 유닛이 생성되었습니다.\n",
      "체력 150, 공격력 35\n"
     ]
    }
   ],
   "source": [
    "tank_name=\"탱크\"\n",
    "tank_hp=150\n",
    "tank_damage=35\n",
    "\n",
    "print(\"{0} 유닛이 생성되었습니다.\".format(tank_name))\n",
    "print(\"체력 {0}, 공격력 {1}\".format(tank_hp,tank_damage))"
   ]
  },
  {
   "cell_type": "code",
   "execution_count": 7,
   "id": "3833bf10",
   "metadata": {},
   "outputs": [
    {
     "name": "stdout",
     "output_type": "stream",
     "text": [
      "마린 : 1시 방향으로 적군을 공격 합니다. [공격력 5]\n",
      "탱크 : 1시 방향으로 적군을 공격 합니다. [공격력 35]\n"
     ]
    }
   ],
   "source": [
    "def attack(name, location , damage):\n",
    "    print(\"{0} : {1} 방향으로 적군을 공격 합니다. [공격력 {2}]\".format(name,location,damage))\n",
    "    \n",
    "attack(name, \"1시\", damage)\n",
    "attack(tank_name, \"1시\", tank_damage)"
   ]
  },
  {
   "cell_type": "markdown",
   "id": "e3be93a2",
   "metadata": {},
   "source": [
    "# 9-1 클래스 9-2 __init__"
   ]
  },
  {
   "cell_type": "markdown",
   "id": "7e147884",
   "metadata": {},
   "source": [
    "#매번 이런식으로 이름, 체역, 공격력을 입력할 수 없으니\n",
    "class를 이용함"
   ]
  },
  {
   "cell_type": "code",
   "execution_count": 11,
   "id": "5ef4deb1",
   "metadata": {},
   "outputs": [
    {
     "name": "stdout",
     "output_type": "stream",
     "text": [
      "마린 유닛이 생성 되었습니다.\n",
      "체력 40, 공격력 5\n",
      "마린 유닛이 생성 되었습니다.\n",
      "체력 40, 공격력 5\n",
      "탱크 유닛이 생성 되었습니다.\n",
      "체력 150, 공격력 35\n"
     ]
    }
   ],
   "source": [
    "class Unit:\n",
    "    def __init__(self, name,hp, damage):\n",
    "        self.name=name\n",
    "        self.hp=hp\n",
    "        self.damage=damage\n",
    "        print(\"{0} 유닛이 생성 되었습니다.\".format(self.name))\n",
    "        print(\"체력 {0}, 공격력 {1}\".format(self.hp, self.damage))\n",
    "        \n",
    "marine1=Unit(\"마린\",40,5)\n",
    "marine2=Unit(\"마린\",40,5)\n",
    "tank=Unit(\"탱크\", 150,35)"
   ]
  },
  {
   "cell_type": "markdown",
   "id": "73f08a8a",
   "metadata": {},
   "source": [
    "# 9-3 멤버변수 (name, hp, damage)"
   ]
  },
  {
   "cell_type": "code",
   "execution_count": 1,
   "id": "843beb46",
   "metadata": {},
   "outputs": [
    {
     "name": "stdout",
     "output_type": "stream",
     "text": [
      "레이스 유닛이 생성 되었습니다.\n",
      "체력 80, 공격력 5\n",
      "유닛이름 : 레이스, 공격력 : 5\n"
     ]
    }
   ],
   "source": [
    "class Unit:\n",
    "    def __init__(self, name,hp, damage):\n",
    "        self.name=name\n",
    "        self.hp=hp\n",
    "        self.damage=damage\n",
    "        print(\"{0} 유닛이 생성 되었습니다.\".format(self.name))\n",
    "        print(\"체력 {0}, 공격력 {1}\".format(self.hp, self.damage))\n",
    "\n",
    "wraith1=Unit(\"레이스\",80,5)\n",
    "\n",
    "#클래스 외부에서 멤버변수 사용\n",
    "print(\"유닛이름 : {0}, 공격력 : {1}\".format(wraith1.name,wraith1.damage))"
   ]
  },
  {
   "cell_type": "code",
   "execution_count": 2,
   "id": "2256705e",
   "metadata": {},
   "outputs": [
    {
     "name": "stdout",
     "output_type": "stream",
     "text": [
      "빼앗은 레이스 유닛이 생성 되었습니다.\n",
      "체력 80, 공격력 5\n",
      "빼앗은 레이스 는 현재 클로킹 상태입니다.\n"
     ]
    }
   ],
   "source": [
    "wraith2 =Unit(\"빼앗은 레이스\",80,5)\n",
    "wraith2.clocking=True # wraith2에만 clocking을 추가함\n",
    "\n",
    "if wraith2.clocking ==True:\n",
    "    print(\"{0} 는 현재 클로킹 상태입니다.\".format(wraith2.name))"
   ]
  },
  {
   "cell_type": "markdown",
   "id": "c9fb824c",
   "metadata": {},
   "source": [
    "# 9-4 메소드"
   ]
  },
  {
   "cell_type": "code",
   "execution_count": 3,
   "id": "29306c60",
   "metadata": {},
   "outputs": [
    {
     "name": "stdout",
     "output_type": "stream",
     "text": [
      "파이어뱃 : 5시 방향으로 적군을 공격 합니다. [공격력 16]\n",
      " \n",
      "파이어뱃 : 25 데미지를 입었습니다.\n",
      "파이어뱃 : 현재 체력은 25 입니다.\n",
      "파이어뱃 : 25 데미지를 입었습니다.\n",
      "파이어뱃 : 현재 체력은 0 입니다.\n",
      "파이어뱃 : 파괴되었습니다\n"
     ]
    }
   ],
   "source": [
    "class Unit:\n",
    "    def __init__(self, name,hp, damage):\n",
    "        self.name=name\n",
    "        self.hp=hp\n",
    "        self.damage=damage\n",
    "        print(\"{0} 유닛이 생성 되었습니다.\".format(self.name))\n",
    "        print(\"체력 {0}, 공격력 {1}\".format(self.hp, self.damage))\n",
    "        \n",
    "class AttackUnit:\n",
    "    def __init__(self,name,hp,damage):\n",
    "        self.name=name\n",
    "        self.hp=hp\n",
    "        self.damage=damage\n",
    "        \n",
    "    def attack(self,location):\n",
    "        print(\"{0} : {1} 방향으로 적군을 공격 합니다. [공격력 {2}]\"\\\n",
    "              .format(self.name, location, self.damage))\n",
    "        \n",
    "    def damaged(self,damage):\n",
    "        print(\"{0} : {1} 데미지를 입었습니다.\".format(self.name, damage))\n",
    "        self.hp-=damage\n",
    "        print(\"{0} : 현재 체력은 {1} 입니다.\".format(self.name,self.hp))\n",
    "        if self.hp <=0:\n",
    "              print(\"{0} : 파괴되었습니다\".format(self.name))\n",
    "              \n",
    "firebat1=AttackUnit(\"파이어뱃\",50,16)\n",
    "firebat1.attack(\"5시\")\n",
    "print(\" \")\n",
    "firebat1.damaged(25)\n",
    "firebat1.damaged(25)"
   ]
  },
  {
   "cell_type": "markdown",
   "id": "1afd61c0",
   "metadata": {},
   "source": [
    "# 9-5 상속"
   ]
  },
  {
   "cell_type": "code",
   "execution_count": 4,
   "id": "1930cff9",
   "metadata": {},
   "outputs": [
    {
     "name": "stdout",
     "output_type": "stream",
     "text": [
      "파이어뱃 : 5시 방향으로 적군을 공격 합니다. [공격력 16]\n",
      " \n",
      "파이어뱃 : 25 데미지를 입었습니다.\n",
      "파이어뱃 : 현재 체력은 25 입니다.\n",
      "파이어뱃 : 25 데미지를 입었습니다.\n",
      "파이어뱃 : 현재 체력은 0 입니다.\n",
      "파이어뱃 : 파괴되었습니다\n"
     ]
    }
   ],
   "source": [
    "class Unit: #부모\n",
    "    def __init__(self, name,hp):\n",
    "        self.name=name\n",
    "        self.hp=hp\n",
    "         \n",
    "class AttackUnit(Unit): #자식\n",
    "    def __init__(self, name, hp, damage):\n",
    "        Unit.__init__(self, name,hp)\n",
    "        self.damage=damage\n",
    "        \n",
    "    def attack(self,location):\n",
    "        print(\"{0} : {1} 방향으로 적군을 공격 합니다. [공격력 {2}]\"\\\n",
    "              .format(self.name, location, self.damage))\n",
    "        \n",
    "    def damaged(self,damage):\n",
    "        print(\"{0} : {1} 데미지를 입었습니다.\".format(self.name, damage))\n",
    "        self.hp-=damage\n",
    "        print(\"{0} : 현재 체력은 {1} 입니다.\".format(self.name,self.hp))\n",
    "        if self.hp <=0:\n",
    "              print(\"{0} : 파괴되었습니다\".format(self.name))\n",
    "              \n",
    "firebat1=AttackUnit(\"파이어뱃\",50,16)\n",
    "firebat1.attack(\"5시\")\n",
    "print(\" \")\n",
    "firebat1.damaged(25)\n",
    "firebat1.damaged(25)"
   ]
  },
  {
   "cell_type": "markdown",
   "id": "5e0b952a",
   "metadata": {},
   "source": [
    "# 9-6 다중상속"
   ]
  },
  {
   "cell_type": "code",
   "execution_count": 5,
   "id": "c6e1cf38",
   "metadata": {},
   "outputs": [
    {
     "name": "stdout",
     "output_type": "stream",
     "text": [
      "발키리 : 3시 방향으로 날아갑니다. [속도 5]\n"
     ]
    }
   ],
   "source": [
    "class Unit: #부모\n",
    "    def __init__(self, name,hp):\n",
    "        self.name=name\n",
    "        self.hp=hp\n",
    "         \n",
    "class AttackUnit(Unit): #자식\n",
    "    def __init__(self, name, hp, damage):\n",
    "        Unit.__init__(self, name,hp)\n",
    "        self.damage=damage\n",
    "        \n",
    "    def attack(self,location):\n",
    "        print(\"{0} : {1} 방향으로 적군을 공격 합니다. [공격력 {2}]\"\\\n",
    "              .format(self.name, location, self.damage))\n",
    "        \n",
    "    def damaged(self,damage):\n",
    "        print(\"{0} : {1} 데미지를 입었습니다.\".format(self.name, damage))\n",
    "        self.hp-=damage\n",
    "        print(\"{0} : 현재 체력은 {1} 입니다.\".format(self.name,self.hp))\n",
    "        if self.hp <=0:\n",
    "              print(\"{0} : 파괴되었습니다\".format(self.name))\n",
    "class Flyable:\n",
    "    def __init__(self, flying_speed):\n",
    "        self.flying_speed= flying_speed\n",
    "        \n",
    "    def fly(self, name, location):\n",
    "        print(\"{0} : {1} 방향으로 날아갑니다. [속도 {2}]\"\n",
    "              .format(name, location, self.flying_speed))\n",
    "        \n",
    "# AttackUnit, Flyable 에서 다중상속 받음        \n",
    "class FlyableAttackUnit(AttackUnit, Flyable):\n",
    "    def __init__(self, name, hp, damage, flying_speed):\n",
    "        AttackUnit.__init__(self, name,hp,damage)\n",
    "        Flyable.__init__(self, flying_speed)\n",
    "    \n",
    "valkyrie = FlyableAttackUnit(\"발키리\", 200, 6 ,5)\n",
    "valkyrie.fly(valkyrie.name, \"3시\")"
   ]
  },
  {
   "cell_type": "markdown",
   "id": "60a7ff3f",
   "metadata": {},
   "source": [
    "# 6-7 메소드 오버라이딩\n",
    "부모 클래스에서 정의한 메소드 말고 자식 클래스에서 정의한 메소드를 쓰고 싶을때 \n",
    "메소드를 새롭게 정의해서 사용 가능하게한 것 => 메소드 오버라이딩"
   ]
  },
  {
   "cell_type": "code",
   "execution_count": 10,
   "id": "45555cc3",
   "metadata": {},
   "outputs": [
    {
     "name": "stdout",
     "output_type": "stream",
     "text": [
      "[지상 유닛 이동]\n",
      "벌쳐 : 11시 방향으로 이동합니다. [속도 10]\n",
      "[공중 유닛 이동]\n",
      "배틀크루저 : 9시 방향으로 날아갑니다. [속도 3]\n"
     ]
    }
   ],
   "source": [
    "#일반 유닛\n",
    "class Unit: #부모\n",
    "    def __init__(self, name,hp, speed):\n",
    "        self.name=name\n",
    "        self.hp=hp\n",
    "        self.speed=speed\n",
    "        \n",
    "    def move(self,location):\n",
    "        print(\"[지상 유닛 이동]\")\n",
    "        print(\"{0} : {1} 방향으로 이동합니다. [속도 {2}]\"\n",
    "              .format(self.name, location, self.speed))\n",
    "#공격 유닛         \n",
    "class AttackUnit(Unit): #자식\n",
    "    def __init__(self, name, hp, speed, damage):\n",
    "        Unit.__init__(self, name,hp ,speed)\n",
    "        self.damage=damage\n",
    "        \n",
    "    def attack(self,location):\n",
    "        print(\"{0} : {1} 방향으로 적군을 공격 합니다. [공격력 {2}]\"\\\n",
    "              .format(self.name, location, self.damage))\n",
    "        \n",
    "    def damaged(self,damage):\n",
    "        print(\"{0} : {1} 데미지를 입었습니다.\".format(self.name, damage))\n",
    "        self.hp-=damage\n",
    "        print(\"{0} : 현재 체력은 {1} 입니다.\".format(self.name,self.hp))\n",
    "        if self.hp <=0:\n",
    "              print(\"{0} : 파괴되었습니다\".format(self.name))\n",
    "class Flyable:\n",
    "    def __init__(self, flying_speed):\n",
    "        self.flying_speed= flying_speed\n",
    "        \n",
    "    def fly(self, name, location):\n",
    "        print(\"{0} : {1} 방향으로 날아갑니다. [속도 {2}]\"\n",
    "              .format(name, location, self.flying_speed))\n",
    "        \n",
    "# AttackUnit, Flyable 에서 다중상속 받음        \n",
    "class FlyableAttackUnit(AttackUnit, Flyable):\n",
    "    def __init__(self, name, hp, damage, flying_speed):\n",
    "        AttackUnit.__init__(self, name,hp, 0, damage) #지상 speed 0\n",
    "        Flyable.__init__(self, flying_speed)\n",
    "        \n",
    "    def move(self, location): #move() 함수 재정의\n",
    "        print(\"[공중 유닛 이동]\")\n",
    "        self.fly(self.name, location)\n",
    "    \n",
    "vulture = AttackUnit(\"벌쳐\", 80,10,20)\n",
    "battlecruiser=FlyableAttackUnit(\"배틀크루저\",500,25,3)\n",
    "\n",
    "vulture.move(\"11시\")\n",
    "# battlecruiser.fly(battlecruiser.name, \"9시\")\n",
    "battlecruiser.move(\"9시\") #자식 클래스에서 정의한 메소드 move사용"
   ]
  },
  {
   "cell_type": "markdown",
   "id": "bc58acc6",
   "metadata": {},
   "source": [
    "# 9-8 pass"
   ]
  },
  {
   "cell_type": "code",
   "execution_count": 11,
   "id": "f854b84e",
   "metadata": {},
   "outputs": [],
   "source": [
    "class BuildingUnit(Unit):\n",
    "    def __init__(self, name, hp,location):\n",
    "        pass #그냥 넘어감\n",
    "\n",
    "supply_depot=BuildingUnit(\"서폴라이 디폿\", 500,\" 7시\")"
   ]
  },
  {
   "cell_type": "code",
   "execution_count": 13,
   "id": "de1bd7db",
   "metadata": {},
   "outputs": [
    {
     "name": "stdout",
     "output_type": "stream",
     "text": [
      "[알림] 새로운 게임을 시작합니다.\n"
     ]
    }
   ],
   "source": [
    "def game_start():\n",
    "    print(\"[알림] 새로운 게임을 시작합니다.\")\n",
    "    \n",
    "def game_over():\n",
    "    pass #그냥 넘어감\n",
    "\n",
    "game_start()\n",
    "game_over()"
   ]
  },
  {
   "cell_type": "markdown",
   "id": "359d6d1b",
   "metadata": {},
   "source": [
    "# 9-9 super"
   ]
  },
  {
   "cell_type": "code",
   "execution_count": null,
   "id": "8ae252a3",
   "metadata": {},
   "outputs": [],
   "source": [
    "class BuildingUnit(Unit):\n",
    "    def __init__(self, name, hp,location):\n",
    "#         Unit.__init__(self, name,hp, 0)\n",
    "\n",
    "#       super 사용법\n",
    "        super().__init__(name,hp,0)\n",
    "        self.location= location\n",
    "\n",
    "supply_depot=BuildingUnit(\"서폴라이 디폿\", 500,\" 7시\")"
   ]
  },
  {
   "cell_type": "code",
   "execution_count": 16,
   "id": "4084164e",
   "metadata": {},
   "outputs": [
    {
     "name": "stdout",
     "output_type": "stream",
     "text": [
      "Unit 생성자\n",
      "Flyable 생성자\n"
     ]
    }
   ],
   "source": [
    "class Unit:\n",
    "    def __init__(self):\n",
    "        print(\"Unit 생성자\")\n",
    "class Flyable:\n",
    "    def __init__(self):\n",
    "        print(\"Flyable 생성자\")\n",
    "        \n",
    "class FlyableUnit(Flyable, Unit):\n",
    "    def __init__(self):\n",
    "#         super().__init__() \n",
    "#         다중상속일 경우 super 사용하면 하나만 나와서 불가능하다.\n",
    "        Unit.__init__(self)\n",
    "        Flyable.__init__(self)\n",
    "        \n",
    "dropship =FlyableUnit()"
   ]
  },
  {
   "cell_type": "markdown",
   "id": "22c8542f",
   "metadata": {},
   "source": [
    "# 9-10 9-11 스타크래프트 프로젝트"
   ]
  },
  {
   "cell_type": "code",
   "execution_count": 10,
   "id": "d963080e",
   "metadata": {},
   "outputs": [
    {
     "name": "stdout",
     "output_type": "stream",
     "text": [
      "[알림] 새로운 게임을 시작합니다.\n",
      "마린 유닛이 생성되었습니다.\n",
      "마린 유닛이 생성되었습니다.\n",
      "마린 유닛이 생성되었습니다.\n",
      "탱크 유닛이 생성되었습니다.\n",
      "탱크 유닛이 생성되었습니다.\n",
      "레이스 유닛이 생성되었습니다.\n",
      "마린 : 1시 방향으로 이동합니다. [속도 1]\n",
      "마린 : 1시 방향으로 이동합니다. [속도 1]\n",
      "마린 : 1시 방향으로 이동합니다. [속도 1]\n",
      "탱크 : 1시 방향으로 이동합니다. [속도 1]\n",
      "탱크 : 1시 방향으로 이동합니다. [속도 1]\n",
      "레이스 : 1시 방향으로 날아갑니다. [속도 5]\n",
      "[알림] 탱크 시즈 모드 개발이 완료되었습니다.\n",
      "마린 : 스팀팩을 사용합니다. (HP 10 감소)\n",
      "마린 : 스팀팩을 사용합니다. (HP 10 감소)\n",
      "마린 : 스팀팩을 사용합니다. (HP 10 감소)\n",
      "탱크 : 시즈모드로 전환합니다.\n",
      "탱크 : 시즈모드로 전환합니다.\n",
      "레이스 : 클로킹 모드 설정합니다.\n",
      "마린 : 1시 방향으로 적군을 공격 합니다. [공격력 5]\n",
      "마린 : 1시 방향으로 적군을 공격 합니다. [공격력 5]\n",
      "마린 : 1시 방향으로 적군을 공격 합니다. [공격력 5]\n",
      "탱크 : 1시 방향으로 적군을 공격 합니다. [공격력 70]\n",
      "탱크 : 1시 방향으로 적군을 공격 합니다. [공격력 70]\n",
      "레이스 : 1시 방향으로 적군을 공격 합니다. [공격력 20]\n",
      "마린 : 14 데미지를 입었습니다.\n",
      "마린 : 현재 체력은 16 입니다.\n",
      "마린 : 10 데미지를 입었습니다.\n",
      "마린 : 현재 체력은 20 입니다.\n",
      "마린 : 8 데미지를 입었습니다.\n",
      "마린 : 현재 체력은 22 입니다.\n",
      "탱크 : 19 데미지를 입었습니다.\n",
      "탱크 : 현재 체력은 131 입니다.\n",
      "탱크 : 6 데미지를 입었습니다.\n",
      "탱크 : 현재 체력은 144 입니다.\n",
      "레이스 : 13 데미지를 입었습니다.\n",
      "레이스 : 현재 체력은 67 입니다.\n",
      "Player : gg\n",
      "[Player] 님이 게임에서 퇴장하셨습니다.\n"
     ]
    }
   ],
   "source": [
    "from random import *\n",
    "#일반 유닛\n",
    "\n",
    "class Unit: #부모\n",
    "    def __init__(self, name,hp, speed):\n",
    "        self.name=name\n",
    "        self.hp=hp\n",
    "        self.speed=speed\n",
    "        print(\"{0} 유닛이 생성되었습니다.\".format(self.name))\n",
    "        \n",
    "    def move(self,location):\n",
    "        print(\"{0} : {1} 방향으로 이동합니다. [속도 {2}]\"\n",
    "              .format(self.name, location, self.speed))\n",
    "    \n",
    "    def damaged(self,damage):\n",
    "        print(\"{0} : {1} 데미지를 입었습니다.\".format(self.name, damage))\n",
    "        self.hp-=damage\n",
    "        print(\"{0} : 현재 체력은 {1} 입니다.\".format(self.name,self.hp))\n",
    "        if self.hp <=0:\n",
    "            print(\"{0} : 파괴되었습니다\".format(self.name))\n",
    "\n",
    "#공격 유닛\n",
    "class AttackUnit(Unit): #자식\n",
    "    def __init__(self, name, hp, speed, damage):\n",
    "        Unit.__init__(self, name,hp ,speed)\n",
    "        self.damage=damage\n",
    "        \n",
    "    def attack(self,location):\n",
    "        print(\"{0} : {1} 방향으로 적군을 공격 합니다. [공격력 {2}]\"\\\n",
    "              .format(self.name, location, self.damage))\n",
    "        \n",
    "    def damaged(self,damage):\n",
    "        print(\"{0} : {1} 데미지를 입었습니다.\".format(self.name, damage))\n",
    "        self.hp-=damage\n",
    "        print(\"{0} : 현재 체력은 {1} 입니다.\".format(self.name,self.hp))\n",
    "        if self.hp <=0:\n",
    "              print(\"{0} : 파괴되었습니다\".format(self.name))\n",
    "\n",
    "#마린\n",
    "class Marine(AttackUnit):\n",
    "    def __init__(self):\n",
    "        AttackUnit.__init__(self, \"마린\", 40, 1, 5)\n",
    "     #스팀팩 : 일정 시간 동안 이동 및 공격 속도를 증가, 체력 10 감소   \n",
    "    def stimpack(self):\n",
    "        if self.hp > 10:\n",
    "            self.hp -=10\n",
    "            print(\"{0} : 스팀팩을 사용합니다. (HP 10 감소)\".format(self.name))\n",
    "        else:\n",
    "            print(\"{0} : 체력이 부족하여 스팀팩을 사용하지 않습니다.\".format(self.name))\n",
    "                \n",
    "#탱크\n",
    "class Tank(AttackUnit):\n",
    "    #시즈모드 : 탱크를 지상에 고정시켜, 더 높은 파워로 공격 가능, 이동 불가.\n",
    "    seize_developed = False #시즈모드 개발여부\n",
    "    \n",
    "    def __init__(self):\n",
    "        AttackUnit.__init__(self, \"탱크\", 150, 1, 35)\n",
    "        self.seize_mode =False\n",
    "    def set_seize_mode(self):\n",
    "        if Tank.seize_developed == False:\n",
    "            return\n",
    "        \n",
    "        #현재 시즈모드가 아닐 때 -> 시즈모드\n",
    "        if self.seize_mode == False:\n",
    "            print(\"{0} : 시즈모드로 전환합니다.\".format(self.name))\n",
    "            self.damage *=2\n",
    "            self.seize_mode = True\n",
    "            \n",
    "        # 현재 시즈모드일 때 -> 시즈모드 해제\n",
    "        else:\n",
    "            print(\"{0} : 시즈모드를 해제합니다.\".format(self.name))\n",
    "            self.damage /=2\n",
    "            self.seize_mode = False\n",
    "            \n",
    "        \n",
    "class Flyable:\n",
    "    def __init__(self, flying_speed):\n",
    "        self.flying_speed= flying_speed\n",
    "        \n",
    "    def fly(self, name, location):\n",
    "        print(\"{0} : {1} 방향으로 날아갑니다. [속도 {2}]\"\n",
    "              .format(name, location, self.flying_speed))\n",
    "        \n",
    "# AttackUnit, Flyable 에서 다중상속 받음 \n",
    "# 공중 공격 유닛 클래스\n",
    "class FlyableAttackUnit(AttackUnit, Flyable):\n",
    "    def __init__(self, name, hp, damage, flying_speed):\n",
    "        AttackUnit.__init__(self, name,hp, 0, damage) #지상 speed 0\n",
    "        Flyable.__init__(self, flying_speed)\n",
    "        \n",
    "    def move(self, location): #move() 함수 재정의\n",
    "        self.fly(self.name, location)\n",
    "        \n",
    "#레이스\n",
    "class wraith(FlyableAttackUnit):\n",
    "    def __init__(self):\n",
    "        FlyableAttackUnit.__init__(self,\"레이스\", 80, 20, 5)\n",
    "        self.clocked =False #클로킹 모드 (해제 상태)\n",
    "    def clocking(self):\n",
    "        if self.clocked == True: #클로킹 모드 -> 모드 해제\n",
    "            print(\"{0} : 클로킹 모드 해제합니다.\".format(self.name))\n",
    "            self.clocked = False\n",
    "        else:  #클로킹 모드 해제 -> 모드 설정\n",
    "            print(\"{0} : 클로킹 모드 설정합니다.\".format(self.name))\n",
    "            self.clocked = True\n",
    "            \n",
    "def game_start():\n",
    "    print(\"[알림] 새로운 게임을 시작합니다.\")\n",
    "    \n",
    "def game_over():\n",
    "    print(\"Player : gg\")\n",
    "    print(\"[Player] 님이 게임에서 퇴장하셨습니다.\")\n",
    "\n",
    "#실제 게임 진행\n",
    "game_start()    \n",
    "m1=Marine()\n",
    "m2=Marine()\n",
    "m3=Marine()\n",
    "#탱크 2기 생성\n",
    "t1=Tank()\n",
    "t2=Tank()\n",
    "#레이스 1기 생성\n",
    "w1=wraith()\n",
    "#유닛 일괄 관리 (생성된 모든 유닛 append)\n",
    "attack_units=[]\n",
    "attack_units.append(m1)\n",
    "attack_units.append(m2)\n",
    "attack_units.append(m3)\n",
    "attack_units.append(t1)\n",
    "attack_units.append(t2)\n",
    "attack_units.append(w1)\n",
    "\n",
    "#전군 이동\n",
    "for unit in attack_units:\n",
    "    unit.move(\"1시\")\n",
    "    \n",
    "Tank.seize_developed = True\n",
    "print(\"[알림] 탱크 시즈 모드 개발이 완료되었습니다.\")\n",
    "\n",
    "#공격 모드 준비 (마린 : 스팀팩, 탱크 : 시즈모드, 레이스 : 클로킹)\n",
    "for unit in attack_units:\n",
    "    if isinstance(unit, Marine):\n",
    "        unit.stimpack()\n",
    "    elif isinstance(unit,Tank):\n",
    "        unit.set_seize_mode()\n",
    "    elif isinstance(unit,wraith):\n",
    "        unit.clocking()\n",
    "        \n",
    "#전군 공격\n",
    "for unit in attack_units:\n",
    "    unit.attack(\"1시\")\n",
    "    \n",
    "#전군 피해\n",
    "for unit in attack_units:\n",
    "    unit.damaged(randint(5,21)) #공격은 랜덤으로 받음 (5~20)\n",
    "    \n",
    "#게임 종료\n",
    "game_over()"
   ]
  },
  {
   "cell_type": "markdown",
   "id": "a0de1eb5",
   "metadata": {},
   "source": [
    "# 9-12 퀴즈"
   ]
  },
  {
   "cell_type": "code",
   "execution_count": 15,
   "id": "aa95299c",
   "metadata": {},
   "outputs": [
    {
     "name": "stdout",
     "output_type": "stream",
     "text": [
      "총 3대의 매물이 있습니다.\n",
      "강남 아파트 매매 10억 2010년\n",
      "마포 오피스텔 전세 5억 2007년\n",
      "송파 빌라 월세 500/50 2000년\n"
     ]
    }
   ],
   "source": [
    "class House:\n",
    "    #매물 초기화\n",
    "    def __init__(self, location, house_type, deal_type, price, completion_year):\n",
    "        self.location = location\n",
    "        self.house_type= house_type\n",
    "        self.deal_type=deal_type\n",
    "        self.price=price\n",
    "        self.completion_year=completion_year\n",
    "    \n",
    "    #매물 정보 표시\n",
    "    def show_detail(self):\n",
    "        print(self.location,self.house_type,\n",
    "              self.deal_type,self.price,self.completion_year)\n",
    "    \n",
    "houses = []\n",
    "house1= House(\"강남\", \"아파트\", \"매매\", \"10억\", \"2010년\")\n",
    "house2= House(\"마포\", \"오피스텔\", \"전세\", \"5억\", \"2007년\")\n",
    "house3= House(\"송파\", \"빌라\", \"월세\", \"500/50\", \"2000년\")\n",
    "    \n",
    "houses.append(house1)\n",
    "houses.append(house2)\n",
    "houses.append(house3)\n",
    "\n",
    "\n",
    "print(\"총 {0}대의 매물이 있습니다.\".format(len(houses)))\n",
    "for house in houses:\n",
    "    house.show_detail()\n",
    "    "
   ]
  },
  {
   "cell_type": "code",
   "execution_count": null,
   "id": "e7baf09e",
   "metadata": {},
   "outputs": [],
   "source": []
  },
  {
   "cell_type": "code",
   "execution_count": null,
   "id": "ac2de7a5",
   "metadata": {},
   "outputs": [],
   "source": []
  }
 ],
 "metadata": {
  "kernelspec": {
   "display_name": "Python 3",
   "language": "python",
   "name": "python3"
  },
  "language_info": {
   "codemirror_mode": {
    "name": "ipython",
    "version": 3
   },
   "file_extension": ".py",
   "mimetype": "text/x-python",
   "name": "python",
   "nbconvert_exporter": "python",
   "pygments_lexer": "ipython3",
   "version": "3.8.8"
  },
  "toc": {
   "base_numbering": 1,
   "nav_menu": {},
   "number_sections": true,
   "sideBar": true,
   "skip_h1_title": false,
   "title_cell": "Table of Contents",
   "title_sidebar": "Contents",
   "toc_cell": false,
   "toc_position": {},
   "toc_section_display": true,
   "toc_window_display": false
  }
 },
 "nbformat": 4,
 "nbformat_minor": 5
}
