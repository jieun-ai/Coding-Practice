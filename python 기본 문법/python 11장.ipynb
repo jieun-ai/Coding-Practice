{
 "cells": [
  {
   "cell_type": "markdown",
   "id": "17d6a982",
   "metadata": {},
   "source": [
    "# 11-1 모듈 만들고 불러오기"
   ]
  },
  {
   "cell_type": "code",
   "execution_count": 1,
   "id": "702ee1dc",
   "metadata": {},
   "outputs": [],
   "source": [
    "#< theater_module 모듈>\n",
    "\n",
    "#일반 가격\n",
    "def price(people):\n",
    "    print(\"{0}명 가격은 {1}원 입니다.\".format(people, people * 10000))\n",
    "\n",
    "    #조조 할인 가격\n",
    "def price_morning(people):\n",
    "    print(\"{0}명 조조 할인 가격은 {1}원 입니다.\".format(people, people *6000))\n",
    "    \n",
    "#군인 할인 가격\n",
    "def price_soldier(people):\n",
    "    print(\"{0}명 군인 할인 가격은 {1}원 입니다.\".format(people, people *4000))\n"
   ]
  },
  {
   "cell_type": "code",
   "execution_count": 5,
   "id": "94d93e35",
   "metadata": {},
   "outputs": [
    {
     "name": "stdout",
     "output_type": "stream",
     "text": [
      "3명 가격은 30000원 입니다.\n",
      "4명 조조 할인 가격은 24000원 입니다.\n",
      "5명 군인 할인 가격은 20000원 입니다.\n"
     ]
    }
   ],
   "source": [
    "import theater_module\n",
    "theater_module.price(3) #3명이서 영화 보러 갔을 때 가격\n",
    "theater_module.price_morning(4) #4명이서 조조 할인 영화 보러 갔을 때\n",
    "theater_module.price_soldier(5) #5명의 군인이 영화보러 갔을 때"
   ]
  },
  {
   "cell_type": "code",
   "execution_count": 6,
   "id": "66a5f010",
   "metadata": {},
   "outputs": [
    {
     "name": "stdout",
     "output_type": "stream",
     "text": [
      "3명 가격은 30000원 입니다.\n",
      "4명 조조 할인 가격은 24000원 입니다.\n",
      "5명 군인 할인 가격은 20000원 입니다.\n"
     ]
    }
   ],
   "source": [
    "#theater_module 의 별명을 mv로 지정\n",
    "import theater_module as mv\n",
    "mv.price(3)\n",
    "mv.price_morning(4)\n",
    "mv.price_soldier(5)"
   ]
  },
  {
   "cell_type": "code",
   "execution_count": 8,
   "id": "adcc0495",
   "metadata": {},
   "outputs": [
    {
     "name": "stdout",
     "output_type": "stream",
     "text": [
      "3명 가격은 30000원 입니다.\n",
      "4명 조조 할인 가격은 24000원 입니다.\n",
      "5명 군인 할인 가격은 20000원 입니다.\n"
     ]
    }
   ],
   "source": [
    "#theater_module들 중에서 모든것(*) 사용\n",
    "from theater_module import * \n",
    "price(3)\n",
    "price_morning(4)\n",
    "price_soldier(5)"
   ]
  },
  {
   "cell_type": "code",
   "execution_count": 27,
   "id": "3c5accfc",
   "metadata": {},
   "outputs": [
    {
     "name": "stdout",
     "output_type": "stream",
     "text": [
      "5명 가격은 50000원 입니다.\n",
      "6명 조조 할인 가격은 36000원 입니다.\n"
     ]
    }
   ],
   "source": [
    "                        #내가 원하는 함수만 import \n",
    "from theater_module import price, price_morning\n",
    "price(5)\n",
    "price_morning(6)"
   ]
  },
  {
   "cell_type": "code",
   "execution_count": 11,
   "id": "3587a7e1",
   "metadata": {},
   "outputs": [
    {
     "name": "stdout",
     "output_type": "stream",
     "text": [
      "5명 군인 할인 가격은 20000원 입니다.\n"
     ]
    }
   ],
   "source": [
    "from theater_module import price_soldier as price\n",
    "price(5)"
   ]
  },
  {
   "cell_type": "markdown",
   "id": "a752a023",
   "metadata": {},
   "source": [
    "# 11-2 패키지 만들고 불러오기\n",
    "패키지: 모듈들을 모아둔 집합"
   ]
  },
  {
   "cell_type": "code",
   "execution_count": 22,
   "id": "e51d1242",
   "metadata": {},
   "outputs": [],
   "source": [
    "#Thailand.py\n",
    "class ThailandPackage:\n",
    "    def detail(self):\n",
    "        print(\"[태국 패키지 3박 5일] 방콕, 파타야 여행 (야시장 투어) 50만원\")"
   ]
  },
  {
   "cell_type": "code",
   "execution_count": 23,
   "id": "c7b0a8b0",
   "metadata": {},
   "outputs": [],
   "source": [
    "#vietnam.py\n",
    "class vietnamPackage:\n",
    "    def detail(self):\n",
    "        print(\"[베트남 패키지 3박 5일] 다낭 효도 여행 60만원\")"
   ]
  },
  {
   "cell_type": "code",
   "execution_count": null,
   "id": "7bad2bea",
   "metadata": {},
   "outputs": [],
   "source": [
    "#위: 모듈, 패키지만 import 가능 (클래스,함수는 import X)\n",
    "#아래: from은 클래스, 함수, 모듈, 패키지 모두 import 가능\n",
    "\n",
    "import travel.thailand\n",
    "trip_to = travel.thailand.ThailandPackage()\n",
    "trip_to.detail()\n",
    "\n",
    "from travel.thailand import ThailandPackage\n",
    "trip_to = ThailandPackage()\n",
    "trip_to.detail()"
   ]
  },
  {
   "cell_type": "code",
   "execution_count": null,
   "id": "f7e2287f",
   "metadata": {},
   "outputs": [],
   "source": [
    "from travel import vienam\n",
    "trip_to = vienam.vietnamPackage()\n",
    "trip_to.detail()"
   ]
  },
  {
   "cell_type": "markdown",
   "id": "1aca1edb",
   "metadata": {},
   "source": [
    "# 11-8 외장함수"
   ]
  },
  {
   "cell_type": "code",
   "execution_count": 1,
   "id": "91fe9995",
   "metadata": {},
   "outputs": [
    {
     "name": "stdout",
     "output_type": "stream",
     "text": [
      "['theater_module.py']\n"
     ]
    }
   ],
   "source": [
    "#glob : 경로 내의 폴더 / 파일 목록 조회 (윈도우 dir)\n",
    "import glob\n",
    "print(glob.glob(\"*.py\")) #확장자가 py인 모든 파일"
   ]
  },
  {
   "cell_type": "code",
   "execution_count": 2,
   "id": "4f0cbd5e",
   "metadata": {},
   "outputs": [
    {
     "name": "stdout",
     "output_type": "stream",
     "text": [
      "C:\\Users\\qweas\\Desktop\\python\n"
     ]
    }
   ],
   "source": [
    "#os : 운영체제에서 제공하는 기본 기능\n",
    "import os\n",
    "print(os.getcwd()) #현재 디렉토리"
   ]
  }
 ],
 "metadata": {
  "kernelspec": {
   "display_name": "Python 3",
   "language": "python",
   "name": "python3"
  },
  "language_info": {
   "codemirror_mode": {
    "name": "ipython",
    "version": 3
   },
   "file_extension": ".py",
   "mimetype": "text/x-python",
   "name": "python",
   "nbconvert_exporter": "python",
   "pygments_lexer": "ipython3",
   "version": "3.8.8"
  },
  "toc": {
   "base_numbering": 1,
   "nav_menu": {},
   "number_sections": true,
   "sideBar": true,
   "skip_h1_title": false,
   "title_cell": "Table of Contents",
   "title_sidebar": "Contents",
   "toc_cell": false,
   "toc_position": {},
   "toc_section_display": true,
   "toc_window_display": false
  }
 },
 "nbformat": 4,
 "nbformat_minor": 5
}
