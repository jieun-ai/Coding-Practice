{
 "cells": [
  {
   "cell_type": "markdown",
   "id": "58655a18",
   "metadata": {},
   "source": [
    "# 7-2.전달값과 반환값"
   ]
  },
  {
   "cell_type": "code",
   "execution_count": 16,
   "id": "614a6c04",
   "metadata": {},
   "outputs": [
    {
     "name": "stdout",
     "output_type": "stream",
     "text": [
      "입금이 완료되었습니다. 잔액은 1000 원입니다.\n",
      "수수료 100원이며, 잔액은 400 원입니다.\n"
     ]
    }
   ],
   "source": [
    "def open_account():\n",
    "    print(\"새로운 계좌사 생성되었습니다.\")\n",
    "\n",
    "def deposit(balance, money): #입금\n",
    "    print(\"입금이 완료되었습니다. 잔액은 {0} 원입니다.\".format(balance + money))\n",
    "    return balance + money\n",
    "\n",
    "def withdraw(balance,money): #출금\n",
    "    if balance>=money: #잔액>출금액\n",
    "        print(\"출금이 완료되었습니다. 잔액은 {0} 원입니다.\".format(balance- money))\n",
    "        return balance- money\n",
    "    else:\n",
    "        print(\"출금이 완료되지 않았습니다. 잔액은 {0} 원입니다\".format(balance))\n",
    "        return balance\n",
    "\n",
    "def withdraw_night(balance,money): #저녁에 출금 \n",
    "    commission=100 #수수료 100원\n",
    "    return commission,balance-money-commission\n",
    "    \n",
    "balance=0 #잔액\n",
    "balance= deposit(balance,1000)\n",
    "# print(balance)\n",
    "# balance=withdraw(balance,1000)\n",
    "# balance=withdraw(balance,500)\n",
    "\n",
    "commission,balance=withdraw_night(balance, 500)\n",
    "print(\"수수료 {0}원이며, 잔액은 {1} 원입니다.\".format(commission,balance))"
   ]
  },
  {
   "cell_type": "markdown",
   "id": "f82cfad5",
   "metadata": {},
   "source": [
    "# 7-3 기본값"
   ]
  },
  {
   "cell_type": "code",
   "execution_count": 20,
   "id": "48f61ce1",
   "metadata": {},
   "outputs": [
    {
     "name": "stdout",
     "output_type": "stream",
     "text": [
      "이름: 유재석 나이 : 17 주 사용 언어: 파이썬\n",
      "이름: 김태호 나이 : 17 주 사용 언어: 파이썬\n"
     ]
    }
   ],
   "source": [
    "def profile(name, age=17, main_lang=\"파이썬\"):\n",
    "    print(\"이름: {0} 나이 : {1} 주 사용 언어: {2}\".format(name, age, main_lang))\n",
    "    \n",
    "profile(\"유재석\")\n",
    "profile(\"김태호\")"
   ]
  },
  {
   "cell_type": "markdown",
   "id": "5daf547c",
   "metadata": {},
   "source": [
    "# 7-4 키워드값"
   ]
  },
  {
   "cell_type": "code",
   "execution_count": 21,
   "id": "c7e03f68",
   "metadata": {
    "scrolled": true
   },
   "outputs": [
    {
     "name": "stdout",
     "output_type": "stream",
     "text": [
      "유재석 20 파이썬\n",
      "김태호 25 자바\n"
     ]
    }
   ],
   "source": [
    "def profile(name,age,main_lang):\n",
    "    print(name, age, main_lang)\n",
    "    \n",
    "profile(name=\"유재석\", main_lang=\"파이썬\", age=20)\n",
    "profile(main_lang =\"자바\", age=25, name='김태호')"
   ]
  },
  {
   "cell_type": "markdown",
   "id": "582c440f",
   "metadata": {},
   "source": [
    "# 7-5 가변인자"
   ]
  },
  {
   "cell_type": "code",
   "execution_count": 27,
   "id": "8155d745",
   "metadata": {},
   "outputs": [
    {
     "name": "stdout",
     "output_type": "stream",
     "text": [
      "이름 : 유재석 나이 : 20 python Java C C++ C# \n",
      "이름 : 김태호 나이 : 25 Kotlin Swift \n"
     ]
    }
   ],
   "source": [
    "def profile(name, age, *language): #end=\" \" 는 줄안바꾸고 뒤에 이어붙임\n",
    "    print(\"이름 : {0} 나이 : {1}\".format(name, age), end=\" \")\n",
    "    for lang in language:\n",
    "        print(lang,end=\" \")\n",
    "    print() #줄바꿈\n",
    "    \n",
    "profile(\"유재석\", 20, \"python\", \"Java\", \"C\",\"C++\",\"C#\")\n",
    "profile(\"김태호\", 25, \"Kotlin\", \"Swift\")"
   ]
  },
  {
   "cell_type": "markdown",
   "id": "3d451e8f",
   "metadata": {},
   "source": [
    "# 7-6 지역변수와 전역변수"
   ]
  },
  {
   "cell_type": "code",
   "execution_count": 33,
   "id": "c930e401",
   "metadata": {},
   "outputs": [
    {
     "name": "stdout",
     "output_type": "stream",
     "text": [
      "전체 총 : 10\n",
      "[함수 내] 남은 총 : 18\n",
      "남은 총 : 10\n"
     ]
    }
   ],
   "source": [
    "gun=10\n",
    "\n",
    "def checkpoint(soldiers):\n",
    "    gun=20 \n",
    "    gun= gun- soldiers \n",
    "    print(\"[함수 내] 남은 총 : {0}\".format(gun))\n",
    "    \n",
    "print(\"전체 총 : {0}\".format(gun))\n",
    "checkpoint(2)\n",
    "print(\"남은 총 : {0}\".format(gun))"
   ]
  },
  {
   "cell_type": "code",
   "execution_count": 37,
   "id": "88c559f2",
   "metadata": {},
   "outputs": [
    {
     "name": "stdout",
     "output_type": "stream",
     "text": [
      "전체 총 : 10\n",
      "[함수 내] 남은 총 : 8\n",
      "남은 총 : 8\n"
     ]
    }
   ],
   "source": [
    "gun=10\n",
    "\n",
    "def checkpoint(soldiers):\n",
    "    global gun #전역공간에 있는 gun을 사용하겠다!\n",
    "    gun= gun- soldiers \n",
    "    print(\"[함수 내] 남은 총 : {0}\".format(gun))\n",
    "    \n",
    "print(\"전체 총 : {0}\".format(gun))\n",
    "checkpoint(2)\n",
    "print(\"남은 총 : {0}\".format(gun))"
   ]
  },
  {
   "cell_type": "code",
   "execution_count": 38,
   "id": "3b0e54c5",
   "metadata": {},
   "outputs": [
    {
     "name": "stdout",
     "output_type": "stream",
     "text": [
      "전체 총 : 10\n",
      "[함수 내] 남은 총 : 8\n",
      "남은 총 : 8\n"
     ]
    }
   ],
   "source": [
    "gun=10 \n",
    "\n",
    "def checkpoint_ret(gun, soldiers):\n",
    "    gun=gun - soldiers\n",
    "    print(\"[함수 내] 남은 총 : {0}\".format(gun))\n",
    "    return gun\n",
    "    \n",
    "print(\"전체 총 : {0}\".format(gun))\n",
    "gun=checkpoint_ret(gun,2)\n",
    "print(\"남은 총 : {0}\".format(gun))"
   ]
  },
  {
   "cell_type": "markdown",
   "id": "66241b3c",
   "metadata": {},
   "source": [
    "# 7-7 예제\n",
    "\n",
    "+ <표준 체중을 구하는 프로그램을 작성하시오>\n",
    "\n",
    "\n",
    "+ *표준 체중: 각 개인의 키에 적당한 체중\n",
    "\n",
    "\n",
    "+ (성별에 따른 공식)\n",
    "+ 남자: 키(m) X 키(m) X 22\n",
    "+ 여자: 키(m) X 키(m) X 21\n",
    "\n",
    "\n",
    "+ 조건1 : 표준 체중은 별도의 함수 내에서 계산\n",
    "    + 함수명: std_weig :ht\n",
    "    + 전달값 : 키(height), 성별(gender)\n",
    "+ 조건2 : 표준 체중은 소수점 둘째자리까지 표시\n",
    "\n",
    "\n",
    "+ 출력 : 키 175cm 남자의 표준 체중은 67.38kg 입니다.\n"
   ]
  },
  {
   "cell_type": "code",
   "execution_count": 4,
   "id": "fddac2b1",
   "metadata": {},
   "outputs": [
    {
     "name": "stdout",
     "output_type": "stream",
     "text": [
      "키 175cm 남자의 표준 체중은 67.38 입니다.\n"
     ]
    }
   ],
   "source": [
    "def std_weight(height, gender):\n",
    "    if gender==\"남자\":\n",
    "        return height*height*22\n",
    "    else:\n",
    "        return height*height*21\n",
    "        \n",
    "height=175\n",
    "gender=\"남자\"\n",
    "weight=round(std_weight(height/100,gender),2)\n",
    "print(\"키 {0}cm {1}의 표준 체중은 {2} 입니다.\".format(height,gender,weight))"
   ]
  }
 ],
 "metadata": {
  "kernelspec": {
   "display_name": "Python 3",
   "language": "python",
   "name": "python3"
  },
  "language_info": {
   "codemirror_mode": {
    "name": "ipython",
    "version": 3
   },
   "file_extension": ".py",
   "mimetype": "text/x-python",
   "name": "python",
   "nbconvert_exporter": "python",
   "pygments_lexer": "ipython3",
   "version": "3.8.8"
  },
  "toc": {
   "base_numbering": 1,
   "nav_menu": {},
   "number_sections": true,
   "sideBar": true,
   "skip_h1_title": false,
   "title_cell": "Table of Contents",
   "title_sidebar": "Contents",
   "toc_cell": false,
   "toc_position": {},
   "toc_section_display": true,
   "toc_window_display": false
  }
 },
 "nbformat": 4,
 "nbformat_minor": 5
}
