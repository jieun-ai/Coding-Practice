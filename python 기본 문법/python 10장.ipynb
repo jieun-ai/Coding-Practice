{
 "cells": [
  {
   "cell_type": "markdown",
   "id": "7e8f2fb5",
   "metadata": {},
   "source": [
    "# 10-1 예외처리"
   ]
  },
  {
   "cell_type": "code",
   "execution_count": 7,
   "id": "9919337c",
   "metadata": {},
   "outputs": [
    {
     "name": "stdout",
     "output_type": "stream",
     "text": [
      "나누기 전용 계산기입니다.\n",
      "첫 번째 숫자를 입력하세요 :6\n",
      "두 번째 숫자를 입력하세요 :삼\n"
     ]
    },
    {
     "ename": "ValueError",
     "evalue": "invalid literal for int() with base 10: '삼'",
     "output_type": "error",
     "traceback": [
      "\u001b[1;31m---------------------------------------------------------------------------\u001b[0m",
      "\u001b[1;31mValueError\u001b[0m                                Traceback (most recent call last)",
      "\u001b[1;32m<ipython-input-7-f064a1e66920>\u001b[0m in \u001b[0;36m<module>\u001b[1;34m\u001b[0m\n\u001b[0;32m      1\u001b[0m \u001b[0mprint\u001b[0m\u001b[1;33m(\u001b[0m\u001b[1;34m\"나누기 전용 계산기입니다.\"\u001b[0m\u001b[1;33m)\u001b[0m\u001b[1;33m\u001b[0m\u001b[1;33m\u001b[0m\u001b[0m\n\u001b[0;32m      2\u001b[0m \u001b[0mnum1\u001b[0m \u001b[1;33m=\u001b[0m \u001b[0mint\u001b[0m\u001b[1;33m(\u001b[0m\u001b[0minput\u001b[0m\u001b[1;33m(\u001b[0m\u001b[1;34m\"첫 번째 숫자를 입력하세요 :\"\u001b[0m\u001b[1;33m)\u001b[0m\u001b[1;33m)\u001b[0m\u001b[1;33m\u001b[0m\u001b[1;33m\u001b[0m\u001b[0m\n\u001b[1;32m----> 3\u001b[1;33m \u001b[0mnum2\u001b[0m \u001b[1;33m=\u001b[0m \u001b[0mint\u001b[0m\u001b[1;33m(\u001b[0m\u001b[0minput\u001b[0m\u001b[1;33m(\u001b[0m\u001b[1;34m\"두 번째 숫자를 입력하세요 :\"\u001b[0m\u001b[1;33m)\u001b[0m\u001b[1;33m)\u001b[0m\u001b[1;33m\u001b[0m\u001b[1;33m\u001b[0m\u001b[0m\n\u001b[0m\u001b[0;32m      4\u001b[0m \u001b[0mprint\u001b[0m\u001b[1;33m(\u001b[0m\u001b[1;34m\"{0} / {1} = {2}\"\u001b[0m\u001b[1;33m.\u001b[0m\u001b[0mformat\u001b[0m\u001b[1;33m(\u001b[0m\u001b[0mnum1\u001b[0m\u001b[1;33m,\u001b[0m \u001b[0mnum2\u001b[0m\u001b[1;33m,\u001b[0m \u001b[0mint\u001b[0m\u001b[1;33m(\u001b[0m\u001b[0mnum1\u001b[0m\u001b[1;33m/\u001b[0m\u001b[0mnum2\u001b[0m\u001b[1;33m)\u001b[0m\u001b[1;33m)\u001b[0m\u001b[1;33m)\u001b[0m\u001b[1;33m\u001b[0m\u001b[1;33m\u001b[0m\u001b[0m\n",
      "\u001b[1;31mValueError\u001b[0m: invalid literal for int() with base 10: '삼'"
     ]
    }
   ],
   "source": [
    "print(\"나누기 전용 계산기입니다.\")\n",
    "num1 = int(input(\"첫 번째 숫자를 입력하세요 :\"))\n",
    "num2 = int(input(\"두 번째 숫자를 입력하세요 :\"))\n",
    "print(\"{0} / {1} = {2}\".format(num1, num2, int(num1/num2)))"
   ]
  },
  {
   "cell_type": "code",
   "execution_count": null,
   "id": "8da2ead1",
   "metadata": {},
   "outputs": [],
   "source": [
    "try:\n",
    "    print(\"나누기 전용 계산기입니다.\")\n",
    "    num1 = int(input(\"첫 번째 숫자를 입력하세요 :\"))\n",
    "    num2 = int(input(\"두 번째 숫자를 입력하세요 :\"))\n",
    "    print(\"{0} / {1} = {2}\".format(num1, num2, int(num1/num2)))\n",
    "\n",
    "    #에러 대신에 출력\n",
    "except ValueError:\n",
    "    print(\"에러! 잘못된 값을 입력하였습니다.\")\n",
    "except ZeroDivisionError as err:\n",
    "    print(err)"
   ]
  },
  {
   "cell_type": "code",
   "execution_count": 26,
   "id": "285d0f77",
   "metadata": {},
   "outputs": [
    {
     "name": "stdout",
     "output_type": "stream",
     "text": [
      "나누기 전용 계산기입니다.\n",
      "첫번째 숫자 입력6\n",
      "두번째 숫자 입력4\n",
      "알 수 없는 에러가 발생하였습니다.\n"
     ]
    }
   ],
   "source": [
    "try:\n",
    "    print(\"나누기 전용 계산기입니다.\")\n",
    "    nums=[]\n",
    "    nums.append(int(input(\"첫번째 숫자 입력\")))\n",
    "    nums.append(int(input(\"두번째 숫자 입력\")))\n",
    "    print(\"{0} / {1} ={2}\".format(nums[0],nums[1],nums[2]))\n",
    "\n",
    "    #에러 대신에 출력\n",
    "except ValueError:\n",
    "    print(\"에러! 잘못된 값을 입력하였습니다.\")\n",
    "except ZeroDivisionError as err:\n",
    "    print(err)\n",
    "except: \n",
    "    print(\"알 수 없는 에러가 발생하였습니다.\")"
   ]
  },
  {
   "cell_type": "markdown",
   "id": "0b75739f",
   "metadata": {},
   "source": [
    "# 10-2 에러 발생시키기"
   ]
  },
  {
   "cell_type": "code",
   "execution_count": 31,
   "id": "12a261af",
   "metadata": {},
   "outputs": [
    {
     "name": "stdout",
     "output_type": "stream",
     "text": [
      "한 자리 숫자 나누기 전용 계산기입니다.\n",
      "첫 번째 숫자를 입력하세요 : 6\n",
      "두 번째 숫자를 입력하세요 : 3\n",
      "6 / 3 = 2\n"
     ]
    }
   ],
   "source": [
    "try:\n",
    "    print(\"한 자리 숫자 나누기 전용 계산기입니다.\")\n",
    "    num1 = int(input(\"첫 번째 숫자를 입력하세요 : \"))\n",
    "    num2 = int(input(\"두 번째 숫자를 입력하세요 : \"))    \n",
    "    \n",
    "    if num1 >=10 or num2 >=10:\n",
    "        raise ValueError #if문이 성립하면 ValueError를 출력\n",
    "        \n",
    "    #if문이 성립하지 않으면 print문 출력\n",
    "    print(\"{0} / {1} = {2}\".format(num1,num2,int(num1/num2)))\n",
    "    \n",
    "except ValueError:\n",
    "    print(\"잘못된 값을 입력하였습니다. 한 자리 숫자만 입력하세요.\")"
   ]
  },
  {
   "cell_type": "markdown",
   "id": "250ddfe3",
   "metadata": {},
   "source": [
    "# 10-3 사용자 정의 예외처리\n",
    "+ class 예외 클래스명(Exception):\n",
    "    + def __init__(self,msg):\n",
    "        + self.msg=msg\n",
    "    + def __str__(self)\"\n",
    "        + return self.msg + \"원하는 문구\""
   ]
  },
  {
   "cell_type": "code",
   "execution_count": 36,
   "id": "05c852b0",
   "metadata": {},
   "outputs": [
    {
     "name": "stdout",
     "output_type": "stream",
     "text": [
      "한 자리 숫자 나누기 전용 계산기입니다.\n",
      "첫 번째 숫자를 입력하세요 : 10\n",
      "두 번째 숫자를 입력하세요 : 5\n",
      "에러가 발생 하였습니다. 한 자리 숫자만 입력하세요.\n",
      "입력값 : 10, 5\n"
     ]
    }
   ],
   "source": [
    "class BigNumberError(Exception):\n",
    "    def __init__(self,msg):\n",
    "        self.msg=msg\n",
    "    def __str__(self):\n",
    "        return self.msg\n",
    "        \n",
    "try:\n",
    "    print(\"한 자리 숫자 나누기 전용 계산기입니다.\")\n",
    "    num1 = int(input(\"첫 번째 숫자를 입력하세요 : \"))\n",
    "    num2 = int(input(\"두 번째 숫자를 입력하세요 : \"))    \n",
    "    \n",
    "    if num1 >=10 or num2 >=10:\n",
    "        raise BigNumberError(\"입력값 : {0}, {1}\".format(num1,num2)) \n",
    "    print(\"{0} / {1} = {2}\".format(num1,num2,int(num1/num2)))\n",
    "    \n",
    "except ValueError:\n",
    "    print(\"잘못된 값을 입력하였습니다. 한 자리 숫자만 입력하세요.\")\n",
    "except BigNumberError as err:\n",
    "    print(\"에러가 발생 하였습니다. 한 자리 숫자만 입력하세요.\")\n",
    "    print(err)"
   ]
  },
  {
   "cell_type": "markdown",
   "id": "66206eec",
   "metadata": {},
   "source": [
    "# 10-4 finally \n",
    "예외처리 구문에서 정상적으로 처리가 되건 오류가 나건 무조건 출력"
   ]
  },
  {
   "cell_type": "code",
   "execution_count": 3,
   "id": "912a2645",
   "metadata": {},
   "outputs": [
    {
     "name": "stdout",
     "output_type": "stream",
     "text": [
      "한 자리 숫자 나누기 전용 계산기입니다.\n",
      "첫 번째 숫자를 입력하세요 : 5\n",
      "두 번째 숫자를 입력하세요 : 0\n",
      " 계산기를 이용해 주셔서 감사합니다.\n"
     ]
    },
    {
     "ename": "ZeroDivisionError",
     "evalue": "division by zero",
     "output_type": "error",
     "traceback": [
      "\u001b[1;31m---------------------------------------------------------------------------\u001b[0m",
      "\u001b[1;31mZeroDivisionError\u001b[0m                         Traceback (most recent call last)",
      "\u001b[1;32m<ipython-input-3-2195f1b7866e>\u001b[0m in \u001b[0;36m<module>\u001b[1;34m\u001b[0m\n\u001b[0;32m     12\u001b[0m     \u001b[1;32mif\u001b[0m \u001b[0mnum1\u001b[0m \u001b[1;33m>=\u001b[0m\u001b[1;36m10\u001b[0m \u001b[1;32mor\u001b[0m \u001b[0mnum2\u001b[0m \u001b[1;33m>=\u001b[0m\u001b[1;36m10\u001b[0m\u001b[1;33m:\u001b[0m\u001b[1;33m\u001b[0m\u001b[1;33m\u001b[0m\u001b[0m\n\u001b[0;32m     13\u001b[0m         \u001b[1;32mraise\u001b[0m \u001b[0mBigNumberError\u001b[0m\u001b[1;33m(\u001b[0m\u001b[1;34m\"입력값 : {0}, {1}\"\u001b[0m\u001b[1;33m.\u001b[0m\u001b[0mformat\u001b[0m\u001b[1;33m(\u001b[0m\u001b[0mnum1\u001b[0m\u001b[1;33m,\u001b[0m\u001b[0mnum2\u001b[0m\u001b[1;33m)\u001b[0m\u001b[1;33m)\u001b[0m\u001b[1;33m\u001b[0m\u001b[1;33m\u001b[0m\u001b[0m\n\u001b[1;32m---> 14\u001b[1;33m     \u001b[0mprint\u001b[0m\u001b[1;33m(\u001b[0m\u001b[1;34m\"{0} / {1} = {2}\"\u001b[0m\u001b[1;33m.\u001b[0m\u001b[0mformat\u001b[0m\u001b[1;33m(\u001b[0m\u001b[0mnum1\u001b[0m\u001b[1;33m,\u001b[0m\u001b[0mnum2\u001b[0m\u001b[1;33m,\u001b[0m\u001b[0mint\u001b[0m\u001b[1;33m(\u001b[0m\u001b[0mnum1\u001b[0m\u001b[1;33m/\u001b[0m\u001b[0mnum2\u001b[0m\u001b[1;33m)\u001b[0m\u001b[1;33m)\u001b[0m\u001b[1;33m)\u001b[0m\u001b[1;33m\u001b[0m\u001b[1;33m\u001b[0m\u001b[0m\n\u001b[0m\u001b[0;32m     15\u001b[0m \u001b[1;33m\u001b[0m\u001b[0m\n\u001b[0;32m     16\u001b[0m \u001b[1;32mexcept\u001b[0m \u001b[0mValueError\u001b[0m\u001b[1;33m:\u001b[0m\u001b[1;33m\u001b[0m\u001b[1;33m\u001b[0m\u001b[0m\n",
      "\u001b[1;31mZeroDivisionError\u001b[0m: division by zero"
     ]
    }
   ],
   "source": [
    "class BigNumberError(Exception):\n",
    "    def __init__(self,msg):\n",
    "        self.msg=msg\n",
    "    def __str__(self):\n",
    "        return self.msg\n",
    "        \n",
    "try:\n",
    "    print(\"한 자리 숫자 나누기 전용 계산기입니다.\")\n",
    "    num1 = int(input(\"첫 번째 숫자를 입력하세요 : \"))\n",
    "    num2 = int(input(\"두 번째 숫자를 입력하세요 : \"))    \n",
    "    \n",
    "    if num1 >=10 or num2 >=10:\n",
    "        raise BigNumberError(\"입력값 : {0}, {1}\".format(num1,num2)) \n",
    "    print(\"{0} / {1} = {2}\".format(num1,num2,int(num1/num2)))\n",
    "    \n",
    "except ValueError:\n",
    "    print(\"잘못된 값을 입력하였습니다. 한 자리 숫자만 입력하세요.\")\n",
    "except BigNumberError as err:\n",
    "    print(\"에러가 발생 하였습니다. 한 자리 숫자만 입력하세요.\")\n",
    "    print(err)\n",
    "    \n",
    "#에러가 떠도 finally는 실행\n",
    "finally:\n",
    "    print(\" 계산기를 이용해 주셔서 감사합니다.\")"
   ]
  },
  {
   "cell_type": "markdown",
   "id": "2dbfc1c9",
   "metadata": {},
   "source": [
    "#  10-5 퀴즈 "
   ]
  },
  {
   "cell_type": "code",
   "execution_count": 3,
   "id": "2d8d1e32",
   "metadata": {},
   "outputs": [
    {
     "name": "stdout",
     "output_type": "stream",
     "text": [
      "[남은 치킨 : 10]\n",
      "치킨 몇 마리 주문하시겠습니까?4\n",
      "[대기번호 1] 4마리 주문이 완료되었습니다.\n",
      "[남은 치킨 : 6]\n",
      "치킨 몇 마리 주문하시겠습니까?세\n",
      "잘못된 값을 입력하였습니다.\n",
      "[남은 치킨 : 6]\n",
      "치킨 몇 마리 주문하시겠습니까?1\n",
      "[대기번호 2] 1마리 주문이 완료되었습니다.\n",
      "[남은 치킨 : 5]\n",
      "치킨 몇 마리 주문하시겠습니까?1\n",
      "[대기번호 3] 1마리 주문이 완료되었습니다.\n",
      "[남은 치킨 : 4]\n",
      "치킨 몇 마리 주문하시겠습니까?2\n",
      "[대기번호 4] 2마리 주문이 완료되었습니다.\n",
      "[남은 치킨 : 2]\n",
      "치킨 몇 마리 주문하시겠습니까?2\n",
      "[대기번호 5] 2마리 주문이 완료되었습니다.\n",
      "재고가 소진되어 더 이상 주문을 받지 않습니다.\n"
     ]
    }
   ],
   "source": [
    "class SoldOutError(Exception):\n",
    "    pass\n",
    "\n",
    "chicken= 10\n",
    "waiting= 1\n",
    "while(True):\n",
    "    try:\n",
    "        print(\"[남은 치킨 : {0}]\".format(chicken))\n",
    "        order = int(input(\"치킨 몇 마리 주문하시겠습니까?\"))\n",
    "        if order > chicken:\n",
    "            print(\"재료가 부족합니다.\")\n",
    "        elif order <=0:\n",
    "            raise ValueError\n",
    "        else: \n",
    "            print(\"[대기번호 {0}] {1}마리 주문이 완료되었습니다.\".format(waiting,order))\n",
    "            waiting += 1\n",
    "            chicken -= order\n",
    "        \n",
    "        if chicken ==0:\n",
    "            raise SoldOutError\n",
    "            \n",
    "    except ValueError:\n",
    "        print(\"잘못된 값을 입력하였습니다.\")\n",
    "        \n",
    "    except SoldOutError:\n",
    "        print(\"재고가 소진되어 더 이상 주문을 받지 않습니다.\")\n",
    "        break"
   ]
  }
 ],
 "metadata": {
  "kernelspec": {
   "display_name": "Python 3",
   "language": "python",
   "name": "python3"
  },
  "language_info": {
   "codemirror_mode": {
    "name": "ipython",
    "version": 3
   },
   "file_extension": ".py",
   "mimetype": "text/x-python",
   "name": "python",
   "nbconvert_exporter": "python",
   "pygments_lexer": "ipython3",
   "version": "3.8.8"
  },
  "toc": {
   "base_numbering": 1,
   "nav_menu": {},
   "number_sections": true,
   "sideBar": true,
   "skip_h1_title": false,
   "title_cell": "Table of Contents",
   "title_sidebar": "Contents",
   "toc_cell": false,
   "toc_position": {},
   "toc_section_display": true,
   "toc_window_display": false
  }
 },
 "nbformat": 4,
 "nbformat_minor": 5
}
