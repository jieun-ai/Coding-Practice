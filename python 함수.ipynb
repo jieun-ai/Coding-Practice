{
 "cells": [
  {
   "cell_type": "markdown",
   "id": "1807f156",
   "metadata": {},
   "source": [
    "함수를 사용하는 이유: 똑같은 내용을 반복해서 작성하는 수고로움을 줄이기 위함. 효율적"
   ]
  },
  {
   "cell_type": "markdown",
   "id": "af0cef5c",
   "metadata": {},
   "source": [
    "### 파이썬 함수의 구조\n",
    "\n",
    "+ def 함수명(매개변수):\n",
    "    +    <수행할 문장1>\n",
    "    +    <수행할 문장1>"
   ]
  },
  {
   "cell_type": "code",
   "execution_count": 1,
   "id": "ed6e2470",
   "metadata": {},
   "outputs": [
    {
     "name": "stdout",
     "output_type": "stream",
     "text": [
      "7\n"
     ]
    }
   ],
   "source": [
    "#\"이 함수의 이름(함수 이름)은 add이고 입력으로 2개의 \n",
    "# 값을 받으며 결괏값은 2개의 입력값을 더한 값이다.\"\n",
    "\n",
    "def add(a,b):\n",
    "    return a+b\n",
    "\n",
    "a=3\n",
    "b=4\n",
    "c=add(a,b)\n",
    "print(c)"
   ]
  },
  {
   "cell_type": "markdown",
   "id": "6f246ee8",
   "metadata": {},
   "source": [
    "### 매개변수와 인수\n",
    "+ 매개변수(parameter)와 인수(arguments)는 혼용해서 사용되는 헷갈리는 용어. \n",
    "+ 매개변수는 \"함수에 입력\"으로 전달된 값을 받는 변수\n",
    "+ 인수는 \"함수를 호출할 때\" 전달하는 \"입력값\""
   ]
  },
  {
   "cell_type": "code",
   "execution_count": 7,
   "id": "35a2b9c0",
   "metadata": {},
   "outputs": [
    {
     "name": "stdout",
     "output_type": "stream",
     "text": [
      "7\n"
     ]
    }
   ],
   "source": [
    "def add(a, b):  # a, b는 매개변수\n",
    "    return a+b\n",
    "\n",
    "print(add(3, 4))  # 3, 4는 인수"
   ]
  },
  {
   "cell_type": "code",
   "execution_count": 8,
   "id": "9d54494c",
   "metadata": {},
   "outputs": [
    {
     "name": "stdout",
     "output_type": "stream",
     "text": [
      "7\n"
     ]
    }
   ],
   "source": [
    "#일반적인 함수\n",
    "\n",
    "def add(a, b): \n",
    "    result = a + b \n",
    "    return result\n",
    "\n",
    "a=add(3,4) #결괏값을 받을 변수 = 함수이름(입력인수1, 입력인수2, ...)\n",
    "print(a)"
   ]
  },
  {
   "cell_type": "code",
   "execution_count": 10,
   "id": "a7604612",
   "metadata": {},
   "outputs": [
    {
     "name": "stdout",
     "output_type": "stream",
     "text": [
      "Hi\n"
     ]
    }
   ],
   "source": [
    "#입력값이 없는 함수\n",
    "\n",
    "def say():\n",
    "    return \"Hi\"\n",
    "\n",
    "a=say() #결괏값을 받을 변수 = 함수이름()\n",
    "print(a)"
   ]
  },
  {
   "cell_type": "code",
   "execution_count": 12,
   "id": "9c4ad667",
   "metadata": {},
   "outputs": [
    {
     "name": "stdout",
     "output_type": "stream",
     "text": [
      "3, 4의 합은 7입니다.\n"
     ]
    }
   ],
   "source": [
    "#결괏값이 없는 함수\n",
    "\n",
    "def add(a,b):\n",
    "    print(\"%d, %d의 합은 %d입니다.\" %(a,b,a+b))\n",
    "    \n",
    "add(3,4) #함수이름(입력인수1, 입력인수2, ...)"
   ]
  },
  {
   "cell_type": "code",
   "execution_count": 17,
   "id": "253b7288",
   "metadata": {},
   "outputs": [
    {
     "name": "stdout",
     "output_type": "stream",
     "text": [
      "Hi\n"
     ]
    }
   ],
   "source": [
    "#입력값도 결괏값도 없는 함수\n",
    "\n",
    "def say():\n",
    "    print(\"Hi\")\n",
    "    \n",
    "say() #함수이름()"
   ]
  },
  {
   "cell_type": "code",
   "execution_count": 18,
   "id": "431aa378",
   "metadata": {},
   "outputs": [
    {
     "name": "stdout",
     "output_type": "stream",
     "text": [
      "10\n"
     ]
    }
   ],
   "source": [
    "#매개변수 지정하여 호출하기\n",
    "\n",
    "def add(a, b): \n",
    "    return a + b \n",
    "   \n",
    "result=add(a=3,b=7) \n",
    "print(result)"
   ]
  },
  {
   "cell_type": "markdown",
   "id": "216f025d",
   "metadata": {},
   "source": [
    "### 입력값이 몇 개가 될지 모를 때"
   ]
  },
  {
   "cell_type": "code",
   "execution_count": 20,
   "id": "c513a77e",
   "metadata": {},
   "outputs": [
    {
     "name": "stdout",
     "output_type": "stream",
     "text": [
      "6\n"
     ]
    }
   ],
   "source": [
    "#매개변수 이름 앞에 *을 붙이면 입력값을 전부 모아서 튜플로 만들어줌\n",
    "\n",
    "def add_many(*args):\n",
    "    result=0\n",
    "    for i in args:  #args= (1, 2, 3)\n",
    "        result=result+i\n",
    "    return result\n",
    "\n",
    "result= add_many(1,2,3)\n",
    "print(result)"
   ]
  },
  {
   "cell_type": "code",
   "execution_count": 47,
   "id": "27e30cd1",
   "metadata": {},
   "outputs": [
    {
     "name": "stdout",
     "output_type": "stream",
     "text": [
      "15\n",
      "120\n"
     ]
    }
   ],
   "source": [
    "def add_mul(A, *B):\n",
    "\n",
    "    if A=='add':\n",
    "        re=0\n",
    "        for i in B:\n",
    "            re=re+i\n",
    "        return re\n",
    "            \n",
    "    else:\n",
    "        result=1\n",
    "        for i in B:\n",
    "            result =result*i\n",
    "        return result\n",
    "    \n",
    "result=add_mul('add',1,2,3,4,5)\n",
    "print(result)\n",
    "result=add_mul('mul',1,2,3,4,5)\n",
    "print(result)"
   ]
  },
  {
   "cell_type": "markdown",
   "id": "a79f5f49",
   "metadata": {},
   "source": [
    "### 함수 안에서 선언한 변수의 효력 범위"
   ]
  },
  {
   "cell_type": "code",
   "execution_count": 4,
   "id": "eb1b5ce1",
   "metadata": {},
   "outputs": [
    {
     "name": "stdout",
     "output_type": "stream",
     "text": [
      "1\n"
     ]
    }
   ],
   "source": [
    "#vartest 함수 매개변수 a의 값에 1을 더했으니까 2가 출력될 것 같지만 \n",
    "#결괏값은 1이 나온다.이유는 함수 안에서 만든 매개변수는 함수 안에서만 사용하는 \n",
    "#\"함수만의 변수\"이기 때문이다. 즉 def vartest(a)에서 입력값을 전달받는 \n",
    "#매개변수 a는 함수 안에서만 사용하는 변수이지 함수 밖의 변수 a가 아니다!!\n",
    "\n",
    "a = 1\n",
    "def vartest(a):\n",
    "    a = a +1\n",
    "\n",
    "vartest(a)\n",
    "print(a)"
   ]
  },
  {
   "cell_type": "code",
   "execution_count": 2,
   "id": "8526e8d3",
   "metadata": {},
   "outputs": [
    {
     "name": "stdout",
     "output_type": "stream",
     "text": [
      "1\n"
     ]
    }
   ],
   "source": [
    "#vartest(3)==> a는 4가 되지만 함수를 호출\n",
    "#print(a) 문장은 오류 발생.==>print(a)에서 입력받아야 하는 a 변수를 어디에서도 찾을 수가 없기 때문\n",
    "\n",
    "def vartest(a):\n",
    "    a = a + 1\n",
    "\n",
    "vartest(3)\n",
    "print(a)"
   ]
  },
  {
   "cell_type": "code",
   "execution_count": 6,
   "id": "cf1b3f25",
   "metadata": {},
   "outputs": [
    {
     "name": "stdout",
     "output_type": "stream",
     "text": [
      "2\n"
     ]
    }
   ],
   "source": [
    "a = 1 \n",
    "def vartest(a): \n",
    "    a = a +1 \n",
    "    return a\n",
    "\n",
    "a = vartest(a) \n",
    "print(a)"
   ]
  },
  {
   "cell_type": "code",
   "execution_count": null,
   "id": "5736199f",
   "metadata": {},
   "outputs": [],
   "source": []
  }
 ],
 "metadata": {
  "kernelspec": {
   "display_name": "Python 3",
   "language": "python",
   "name": "python3"
  },
  "language_info": {
   "codemirror_mode": {
    "name": "ipython",
    "version": 3
   },
   "file_extension": ".py",
   "mimetype": "text/x-python",
   "name": "python",
   "nbconvert_exporter": "python",
   "pygments_lexer": "ipython3",
   "version": "3.8.8"
  },
  "toc": {
   "base_numbering": 1,
   "nav_menu": {},
   "number_sections": true,
   "sideBar": true,
   "skip_h1_title": false,
   "title_cell": "Table of Contents",
   "title_sidebar": "Contents",
   "toc_cell": false,
   "toc_position": {},
   "toc_section_display": true,
   "toc_window_display": false
  }
 },
 "nbformat": 4,
 "nbformat_minor": 5
}
